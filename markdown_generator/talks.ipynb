{
 "cells": [
  {
   "cell_type": "markdown",
   "metadata": {},
   "source": [
    "# Talks markdown generator for academicpages\n",
    "\n",
    "Takes a TSV of talks with metadata and converts them for use with [academicpages.github.io](academicpages.github.io). This is an interactive Jupyter notebook ([see more info here](http://jupyter-notebook-beginner-guide.readthedocs.io/en/latest/what_is_jupyter.html)). The core python code is also in `talks.py`. Run either from the `markdown_generator` folder after replacing `talks.tsv` with one containing your data.\n",
    "\n",
    "TODO: Make this work with BibTex and other databases, rather than Stuart's non-standard TSV format and citation style."
   ]
  },
  {
   "cell_type": "code",
   "execution_count": 9,
   "metadata": {
    "collapsed": false,
    "jupyter": {
     "outputs_hidden": false
    }
   },
   "outputs": [],
   "source": [
    "import pandas as pd\n",
    "import os"
   ]
  },
  {
   "cell_type": "markdown",
   "metadata": {},
   "source": [
    "## Data format\n",
    "\n",
    "The TSV needs to have the following columns: title, type, url_slug, venue, date, location, talk_url, description, with a header at the top. Many of these fields can be blank, but the columns must be in the TSV.\n",
    "\n",
    "- Fields that cannot be blank: `title`, `url_slug`, `date`. All else can be blank. `type` defaults to \"Talk\" \n",
    "- `date` must be formatted as YYYY-MM-DD.\n",
    "- `url_slug` will be the descriptive part of the .md file and the permalink URL for the page about the paper. \n",
    "    - The .md file will be `YYYY-MM-DD-[url_slug].md` and the permalink will be `https://[yourdomain]/talks/YYYY-MM-DD-[url_slug]`\n",
    "    - The combination of `url_slug` and `date` must be unique, as it will be the basis for your filenames\n",
    "\n",
    "This is how the raw file looks (it doesn't look pretty, use a spreadsheet or other program to edit and create)."
   ]
  },
  {
   "cell_type": "code",
   "execution_count": 10,
   "metadata": {
    "collapsed": false,
    "jupyter": {
     "outputs_hidden": false
    }
   },
   "outputs": [
    {
     "name": "stdout",
     "output_type": "stream",
     "text": [
      "\"title\"\t\"type\"\t\"url_slug\"\t\"venue\"\t\"date\"\t\"location\"\t\"talk_url\"\t\"description\"\n",
      "\"Computer Vision and the Global Goals\"\t\"Talk\"\t\"cvpr-2021\"\t\"CVPR 2021\"\t\"Invited keynote\"\t\"Online\"\t\"https://www.youtube.com/watch?v=iMDawBTYQGU\"\t\n",
      "\"Satellite Analysis for Building Detection in Africa\"\t\"Talk\"\t\"dsa-satellite\"\t\"Data Science Africa 2019\"\t\"2019-06-07\"\t\"Addis Ababa\"\t\"https://www.youtube.com/watch?v=oazb5KyfEp4\"\n",
      "\"Introduction to Spatial Analysis\"\t\"Tutorial\"\t\"dsa2019-spatial\"\t\"Data Science Africa 2019\"\t\"2019-06-05\"\t\"Addis Ababa\"\t\"https://www.youtube.com/watch?v=tCRqktM8RGM\"\t\"[Notebook and data](https://github.com/jqug/dsa2019_spatialanalysis)\"\n",
      "\"Machine Learning and the Humanitarian Information Gap\"\t\"Talk\"\t\"royalsoc-2017\"\t\"The Royal Society\"\t\"2017-10-30\"\t\"London\"\t\"http://downloads.royalsociety.org/events/2017/10/algorithms-society/Quinn.mp3\"\t\"Meeting on [The growing ubiquity of algorithms in society: implications, impacts and innovations](https://royalsociety.org/science-events-and-lectures/2017/10/algorithms-society/).\"\n",
      "\"Interview on Talking Machines\"\t\"Talk\"\t\"talking-machines\"\t\"The Talking Machines podcast\"\t\"2017-07-01\"\t\"recorded in Arusha\"\t\"https://www.thetalkingmachines.com/episodes/long-view-and-learning-person\"\t\"The Long View and Machine Learning in Person (season 3, episode 9), interviewed by Neil Lawrence.\"\n",
      "\"Machine Learning in the Developing World\"\t\"Talk\"\t\"dali2016\"\t\"Data Learning and Inference (DALI) 2016\"\t2016-04-01\t\"Sestri Levante\"\t\"https://www.youtube.com/watch?v=NNM4Z6n5_XQ\"\n",
      "\"Overview of projects in Pulse Lab Kampala\"\t\"Talk\"\t\"dsa2016-plk\"\t\"Data Science Africa 2016\"\t2016-06-30\t\"Kampala\"\t\"https://www.youtube.com/watch?v=cVziXNN1VtU\"\n"
     ]
    }
   ],
   "source": [
    "!cat talks.tsv"
   ]
  },
  {
   "cell_type": "markdown",
   "metadata": {},
   "source": [
    "## Import TSV\n",
    "\n",
    "Pandas makes this easy with the read_csv function. We are using a TSV, so we specify the separator as a tab, or `\\t`.\n",
    "\n",
    "I found it important to put this data in a tab-separated values format, because there are a lot of commas in this kind of data and comma-separated values can get messed up. However, you can modify the import statement, as pandas also has read_excel(), read_json(), and others."
   ]
  },
  {
   "cell_type": "code",
   "execution_count": 17,
   "metadata": {
    "collapsed": false,
    "jupyter": {
     "outputs_hidden": false
    }
   },
   "outputs": [
    {
     "data": {
      "text/html": [
       "<div>\n",
       "<style scoped>\n",
       "    .dataframe tbody tr th:only-of-type {\n",
       "        vertical-align: middle;\n",
       "    }\n",
       "\n",
       "    .dataframe tbody tr th {\n",
       "        vertical-align: top;\n",
       "    }\n",
       "\n",
       "    .dataframe thead th {\n",
       "        text-align: right;\n",
       "    }\n",
       "</style>\n",
       "<table border=\"1\" class=\"dataframe\">\n",
       "  <thead>\n",
       "    <tr style=\"text-align: right;\">\n",
       "      <th></th>\n",
       "      <th>title</th>\n",
       "      <th>type</th>\n",
       "      <th>url_slug</th>\n",
       "      <th>venue</th>\n",
       "      <th>date</th>\n",
       "      <th>location</th>\n",
       "      <th>talk_url</th>\n",
       "      <th>description</th>\n",
       "    </tr>\n",
       "  </thead>\n",
       "  <tbody>\n",
       "    <tr>\n",
       "      <th>0</th>\n",
       "      <td>Computer Vision and the Global Goals</td>\n",
       "      <td>Talk</td>\n",
       "      <td>cvpr-2021</td>\n",
       "      <td>CVPR 2021</td>\n",
       "      <td>2021-06-20</td>\n",
       "      <td>Invited keynote</td>\n",
       "      <td>https://www.youtube.com/watch?v=iMDawBTYQGU</td>\n",
       "      <td>NaN</td>\n",
       "    </tr>\n",
       "    <tr>\n",
       "      <th>1</th>\n",
       "      <td>Satellite Analysis for Building Detection in A...</td>\n",
       "      <td>Talk</td>\n",
       "      <td>dsa-satellite</td>\n",
       "      <td>Data Science Africa 2019</td>\n",
       "      <td>2019-06-07</td>\n",
       "      <td>Addis Ababa</td>\n",
       "      <td>https://www.youtube.com/watch?v=oazb5KyfEp4</td>\n",
       "      <td>NaN</td>\n",
       "    </tr>\n",
       "    <tr>\n",
       "      <th>2</th>\n",
       "      <td>Introduction to Spatial Analysis</td>\n",
       "      <td>Tutorial</td>\n",
       "      <td>dsa2019-spatial</td>\n",
       "      <td>Data Science Africa 2019</td>\n",
       "      <td>2019-06-05</td>\n",
       "      <td>Addis Ababa</td>\n",
       "      <td>https://www.youtube.com/watch?v=tCRqktM8RGM</td>\n",
       "      <td>[Notebook and data](https://github.com/jqug/ds...</td>\n",
       "    </tr>\n",
       "    <tr>\n",
       "      <th>3</th>\n",
       "      <td>Machine Learning and the Humanitarian Informat...</td>\n",
       "      <td>Talk</td>\n",
       "      <td>royalsoc-2017</td>\n",
       "      <td>The Royal Society</td>\n",
       "      <td>2017-10-30</td>\n",
       "      <td>London</td>\n",
       "      <td>http://downloads.royalsociety.org/events/2017/...</td>\n",
       "      <td>Meeting on [The growing ubiquity of algorithms...</td>\n",
       "    </tr>\n",
       "    <tr>\n",
       "      <th>4</th>\n",
       "      <td>Interview on Talking Machines</td>\n",
       "      <td>Talk</td>\n",
       "      <td>talking-machines</td>\n",
       "      <td>The Talking Machines podcast</td>\n",
       "      <td>2017-07-01</td>\n",
       "      <td>recorded in Arusha</td>\n",
       "      <td>https://www.thetalkingmachines.com/episodes/lo...</td>\n",
       "      <td>The Long View and Machine Learning in Person (...</td>\n",
       "    </tr>\n",
       "    <tr>\n",
       "      <th>5</th>\n",
       "      <td>Machine Learning in the Developing World</td>\n",
       "      <td>Talk</td>\n",
       "      <td>dali2016</td>\n",
       "      <td>Data Learning and Inference (DALI) 2016</td>\n",
       "      <td>2016-04-01</td>\n",
       "      <td>Sestri Levante</td>\n",
       "      <td>https://www.youtube.com/watch?v=NNM4Z6n5_XQ</td>\n",
       "      <td>NaN</td>\n",
       "    </tr>\n",
       "    <tr>\n",
       "      <th>6</th>\n",
       "      <td>Overview of projects in Pulse Lab Kampala</td>\n",
       "      <td>Talk</td>\n",
       "      <td>dsa2016-plk</td>\n",
       "      <td>Data Science Africa 2016</td>\n",
       "      <td>2016-06-30</td>\n",
       "      <td>Kampala</td>\n",
       "      <td>https://www.youtube.com/watch?v=cVziXNN1VtU</td>\n",
       "      <td>NaN</td>\n",
       "    </tr>\n",
       "  </tbody>\n",
       "</table>\n",
       "</div>"
      ],
      "text/plain": [
       "                                               title      type  \\\n",
       "0               Computer Vision and the Global Goals      Talk   \n",
       "1  Satellite Analysis for Building Detection in A...      Talk   \n",
       "2                   Introduction to Spatial Analysis  Tutorial   \n",
       "3  Machine Learning and the Humanitarian Informat...      Talk   \n",
       "4                      Interview on Talking Machines      Talk   \n",
       "5           Machine Learning in the Developing World      Talk   \n",
       "6          Overview of projects in Pulse Lab Kampala      Talk   \n",
       "\n",
       "           url_slug                                    venue        date  \\\n",
       "0         cvpr-2021                                CVPR 2021  2021-06-20   \n",
       "1     dsa-satellite                 Data Science Africa 2019  2019-06-07   \n",
       "2   dsa2019-spatial                 Data Science Africa 2019  2019-06-05   \n",
       "3     royalsoc-2017                        The Royal Society  2017-10-30   \n",
       "4  talking-machines             The Talking Machines podcast  2017-07-01   \n",
       "5          dali2016  Data Learning and Inference (DALI) 2016  2016-04-01   \n",
       "6       dsa2016-plk                 Data Science Africa 2016  2016-06-30   \n",
       "\n",
       "             location                                           talk_url  \\\n",
       "0     Invited keynote        https://www.youtube.com/watch?v=iMDawBTYQGU   \n",
       "1         Addis Ababa        https://www.youtube.com/watch?v=oazb5KyfEp4   \n",
       "2         Addis Ababa        https://www.youtube.com/watch?v=tCRqktM8RGM   \n",
       "3              London  http://downloads.royalsociety.org/events/2017/...   \n",
       "4  recorded in Arusha  https://www.thetalkingmachines.com/episodes/lo...   \n",
       "5      Sestri Levante        https://www.youtube.com/watch?v=NNM4Z6n5_XQ   \n",
       "6             Kampala        https://www.youtube.com/watch?v=cVziXNN1VtU   \n",
       "\n",
       "                                         description  \n",
       "0                                                NaN  \n",
       "1                                                NaN  \n",
       "2  [Notebook and data](https://github.com/jqug/ds...  \n",
       "3  Meeting on [The growing ubiquity of algorithms...  \n",
       "4  The Long View and Machine Learning in Person (...  \n",
       "5                                                NaN  \n",
       "6                                                NaN  "
      ]
     },
     "execution_count": 17,
     "metadata": {},
     "output_type": "execute_result"
    }
   ],
   "source": [
    "talks = pd.read_csv(\"talks.tsv\", sep=\"\\t\", header=0)\n",
    "talks"
   ]
  },
  {
   "cell_type": "markdown",
   "metadata": {},
   "source": [
    "## Escape special characters\n",
    "\n",
    "YAML is very picky about how it takes a valid string, so we are replacing single and double quotes (and ampersands) with their HTML encoded equivilents. This makes them look not so readable in raw format, but they are parsed and rendered nicely."
   ]
  },
  {
   "cell_type": "code",
   "execution_count": 18,
   "metadata": {
    "collapsed": false,
    "jupyter": {
     "outputs_hidden": false
    }
   },
   "outputs": [],
   "source": [
    "html_escape_table = {\n",
    "    \"&\": \"&amp;\",\n",
    "    '\"': \"&quot;\",\n",
    "    \"'\": \"&apos;\"\n",
    "    }\n",
    "\n",
    "def html_escape(text):\n",
    "    if type(text) is str:\n",
    "        return \"\".join(html_escape_table.get(c,c) for c in text)\n",
    "    else:\n",
    "        return \"False\""
   ]
  },
  {
   "cell_type": "markdown",
   "metadata": {},
   "source": [
    "## Creating the markdown files\n",
    "\n",
    "This is where the heavy lifting is done. This loops through all the rows in the TSV dataframe, then starts to concatentate a big string (```md```) that contains the markdown for each type. It does the YAML metadata first, then does the description for the individual page."
   ]
  },
  {
   "cell_type": "code",
   "execution_count": 19,
   "metadata": {},
   "outputs": [],
   "source": [
    "!rm ../_talks/*.md"
   ]
  },
  {
   "cell_type": "code",
   "execution_count": 20,
   "metadata": {
    "collapsed": false,
    "jupyter": {
     "outputs_hidden": false
    }
   },
   "outputs": [],
   "source": [
    "loc_dict = {}\n",
    "\n",
    "for row, item in talks.iterrows():\n",
    "    \n",
    "    md_filename = str(item.date) + \"-\" + item.url_slug + \".md\"\n",
    "    html_filename = str(item.date) + \"-\" + item.url_slug \n",
    "    year = item.date[:4]\n",
    "    \n",
    "    md = \"---\\ntitle: \\\"\"   + item.title + '\"\\n'\n",
    "    md += \"collection: talks\" + \"\\n\"\n",
    "    \n",
    "    if len(str(item.type)) > 3:\n",
    "        md += 'type: \"' + item.type + '\"\\n'\n",
    "    else:\n",
    "        md += 'type: \"Talk\"\\n'\n",
    "    \n",
    "    md += \"permalink: /talks/\" + html_filename + \"\\n\"\n",
    "    \n",
    "    if len(str(item.venue)) > 3:\n",
    "        md += 'venue: \"' + item.venue + '\"\\n'\n",
    "        \n",
    "    if len(str(item.location)) > 3:\n",
    "        md += \"date: \" + str(item.date) + \"\\n\"\n",
    "    \n",
    "    if len(str(item.location)) > 3:\n",
    "        md += 'location: \"' + str(item.location) + '\"\\n'\n",
    "           \n",
    "    md += \"---\\n\"\n",
    "    \n",
    "    if len(str(item.description)) > 3:\n",
    "        md += \"\\n\" + html_escape(item.description) + \"\\\\\"\n",
    "    if len(str(item.talk_url)) > 3:\n",
    "        md += \"\\n[Watch/listen](\" + item.talk_url + \")\\n\" \n",
    "        \n",
    "    md_filename = os.path.basename(md_filename)\n",
    "    #print(md)\n",
    "    \n",
    "    with open(\"../_talks/\" + md_filename, 'w') as f:\n",
    "        f.write(md)"
   ]
  },
  {
   "cell_type": "markdown",
   "metadata": {},
   "source": [
    "These files are in the talks directory, one directory below where we're working from."
   ]
  },
  {
   "cell_type": "code",
   "execution_count": 21,
   "metadata": {
    "collapsed": false,
    "jupyter": {
     "outputs_hidden": false
    }
   },
   "outputs": [
    {
     "name": "stdout",
     "output_type": "stream",
     "text": [
      "2016-04-01-dali2016.md\t\t2019-06-05-dsa2019-spatial.md\n",
      "2016-06-30-dsa2016-plk.md\t2019-06-07-dsa-satellite.md\n",
      "2017-07-01-talking-machines.md\t2021-06-20-cvpr-2021.md\n",
      "2017-10-30-royalsoc-2017.md\n"
     ]
    }
   ],
   "source": [
    "!ls ../_talks"
   ]
  },
  {
   "cell_type": "code",
   "execution_count": 22,
   "metadata": {
    "collapsed": false,
    "jupyter": {
     "outputs_hidden": false
    }
   },
   "outputs": [
    {
     "name": "stdout",
     "output_type": "stream",
     "text": [
      "---\n",
      "title: \"Interview on Talking Machines\"\n",
      "collection: talks\n",
      "type: \"Talk\"\n",
      "permalink: /talks/2017-07-01-talking-machines\n",
      "venue: \"The Talking Machines podcast\"\n",
      "date: 2017-07-01\n",
      "location: \"recorded in Arusha\"\n",
      "---\n",
      "\n",
      "The Long View and Machine Learning in Person (season 3, episode 9), interviewed by Neil Lawrence.\\\n",
      "[Watch/listen](https://www.thetalkingmachines.com/episodes/long-view-and-learning-person)\n"
     ]
    }
   ],
   "source": [
    "!cat ../_talks/2017-07-01-talking-machines.md"
   ]
  },
  {
   "cell_type": "code",
   "execution_count": null,
   "metadata": {},
   "outputs": [],
   "source": []
  }
 ],
 "metadata": {
  "kernelspec": {
   "display_name": "Python 3 (ipykernel)",
   "language": "python",
   "name": "python3"
  },
  "language_info": {
   "codemirror_mode": {
    "name": "ipython",
    "version": 3
   },
   "file_extension": ".py",
   "mimetype": "text/x-python",
   "name": "python",
   "nbconvert_exporter": "python",
   "pygments_lexer": "ipython3",
   "version": "3.9.7"
  }
 },
 "nbformat": 4,
 "nbformat_minor": 4
}
