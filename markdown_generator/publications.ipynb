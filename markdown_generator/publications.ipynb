{
 "cells": [
  {
   "cell_type": "markdown",
   "metadata": {},
   "source": [
    "# Publications markdown generator for academicpages\n",
    "\n",
    "Takes a TSV of publications with metadata and converts them for use with [academicpages.github.io](academicpages.github.io). This is an interactive Jupyter notebook ([see more info here](http://jupyter-notebook-beginner-guide.readthedocs.io/en/latest/what_is_jupyter.html)). The core python code is also in `publications.py`. Run either from the `markdown_generator` folder after replacing `publications.tsv` with one containing your data.\n",
    "\n",
    "TODO: Make this work with BibTex and other databases of citations, rather than Stuart's non-standard TSV format and citation style.\n"
   ]
  },
  {
   "cell_type": "markdown",
   "metadata": {},
   "source": [
    "## Data format\n",
    "\n",
    "The TSV needs to have the following columns: pub_date, title, venue, excerpt, citation, site_url, and paper_url, with a header at the top. \n",
    "\n",
    "- `excerpt` and `paper_url` can be blank, but the others must have values. \n",
    "- `pub_date` must be formatted as YYYY-MM-DD.\n",
    "- `url_slug` will be the descriptive part of the .md file and the permalink URL for the page about the paper. The .md file will be `YYYY-MM-DD-[url_slug].md` and the permalink will be `https://[yourdomain]/publications/YYYY-MM-DD-[url_slug]`\n",
    "\n",
    "This is how the raw file looks (it doesn't look pretty, use a spreadsheet or other program to edit and create)."
   ]
  },
  {
   "cell_type": "code",
   "execution_count": 1,
   "metadata": {
    "jupyter": {
     "outputs_hidden": true
    }
   },
   "outputs": [
    {
     "name": "stdout",
     "output_type": "stream",
     "text": [
      "\"citation\",\"title\",\"url_slug\",\"pub_date\",\"venue\",\"paper_url\",\"excerpt\"\r\n",
      "\"Tomaz Logar, Joseph Bullock, Edoardo Nemni, Lars Bromley, John A Quinn, Miguel Luengo-Oroz\",\"PulseSatellite: A Tool Using Human-AI Feedback Loops for Satellite Image Analysis in Humanitarian Contexts\",,2020,\"AAAI (Demo Track)\",\"https://arxiv.org/pdf/2001.10685.pdf\",\"[PulseSatellite project page](https://www.unglobalpulse.org/microsite/pulsesatellite/)\"\r\n",
      "\"Godliver Owomugisha, Ephraim Nuwamanya, John A Quinn, Michael Biehl, Ernest Mwebaze\",\"Early detection of plant diseases using spectral data\",,2020,\"International Conference on Applications of Intelligent Systems\",\"/files/Owomugisha_2020_Spectral.pdf\",\r\n",
      "\"Godliver Owomugisha, Pius KB Mugagga, Friedrich Melchert, Ernest Mwebaze, John A Quinn, Michael Biehl\",\"A low-cost 3-D printed smartphone add-on spectrometer for diagnosis of crop diseases in field\",,2020,\"Conference on Computing and Sustainable Societies (COMPASS)\",\"/files/Owomugisha_2020_COMPASS.pdf\",\r\n",
      "\"Jeremy Francis Tusubira, Solomon Nsumba, Flavia Ninsiima, Benjamin Akera, Guy Acellam, Joyce Nakatumba, Ernest Mwebaze, John Quinn, Tonny Oyana\",\"Improving In-Field Cassava Whitefly Pest Surveillance With Machine Learning\",,2020,\"CVPR 2020 Workshops\",\"/files/Tusubira_2020_WhiteflyDetection.pdf\",\r\n",
      "\"Pedro J Zufiria, David Pastor-Escuredo, Luis Ubeda Medina, Miguel A Hernandez Medina, Iker Barriales Valbuena, Alfredo J Morales, Wilfred Nkwambi, John Quinn, Paula Hidalgo Sanchis, Miguel Luengo-Oroz\",\"Mobility profiles and calendars for food security and livelihoods analysis\",,2019,\"arXiv:1904.08525\",\"https://arxiv.org/pdf/1904.08525\",\r\n",
      "\"John A Quinn, Marguerite M Nyhan, Celia Navarro, Davide Coluccia, Lars Bromley, Miguel Luengo-Oroz\",\"Humanitarian applications of machine learning with remote-sensing data: review and case study in refugee settlement mapping\",,2018,\"Philosophical Transactions of the Royal Society A: Mathematical, Physical and Engineering Sciences (376) 2128\",\"/files/Quinn_2018_TransRoyalSoc.pdf\",\r\n",
      "\"Raghav Menon, Herman Kamper, John Quinn, Thomas Niesler\",\"Fast ASR-free and almost zero-resource keyword spotting using DTW and CNNs for humanitarian monitoring\",,2018,\"arXiv:1806.09374\",\"https://arxiv.org/pdf/1806.09374\",\r\n",
      "\"Pedro J Zufiria, David Pastor-Escuredo, Luis Úbeda-Medina, Miguel A Hernandez-Medina, Iker Barriales-Valbuena, Alfredo J Morales, Damien C Jacques, Wilfred Nkwambi, M Bamba Diop, John Quinn, Paula Hidalgo-Sanchís, Miguel Luengo-Oroz\",\"Identifying seasonal mobility profiles from anonymized and aggregated mobile phone data. Application in food security\",,2018,\"PloS one (13) 4\",\"/files/Zufiria_2018_PloS.pdf\",\r\n",
      "\"Raghav Menon, Herman Kamper, Ewald van der Westhuizen, John Quinn, Thomas Niesler\",\"Feature exploration for almost zero-resource ASR-free keyword spotting using a multilingual bottleneck extractor and correspondence autoencoders\",,2018,\"arXiv:1811.08284\",\"https://arxiv.org/pdf/1811.08284\",\r\n",
      "\"Godliver Owomugisha, Friedrich Melchert, Ernest Mwebaze, John A Quinn, Michael Biehl\",\"Machine Learning for diagnosis of disease in plants using spectral data\",,2018,\"International Conference on Artificial Intelligence (ICAI)\",\"/files/Owomugisha_2018_SpectralDiagnosis.pdf\",\r\n",
      "\"Neil Newman, Lauren Falcao Bergquist, Nicole Immorlica, Kevin Leyton-Brown, Brendan Lucier, Craig McIntosh, John Quinn, Richard Ssekibuule\",\"Designing and evolving an electronic agricultural marketplace in Uganda\",,2018,\"Conference on Computing and Sustainable Societies (COMPASS)\",\"/files/Newman_2018_Kudu.pdf\",\r\n",
      "\"Raghav Menon, Astik Biswas, Armin Saeb, John Quinn, Thomas Niesler\",\"Automatic speech recognition for humanitarian applications in Somali\",,2018,\"arXiv:1807.08669\",\"https://arxiv.org/pdf/1807.08669\",\r\n",
      "\"Raghav Menon, Herman Kamper, Emre Yilmaz, John Quinn, Thomas Niesler\",\"ASR-free CNN-DTW keyword spotting using multilingual bottleneck features for almost zero-resource languages\",,2018,\"arXiv:1807.08666\",\"https://arxiv.org/pdf/1807.08666\",\" \"\r\n",
      "\"Armin Saeb, Raghav Menon, Hugh Cameron, William Kibira, John Quinn, Thomas Niesler\",\"Very Low Resource Radio Browsing for Agile Developmental and Humanitarian Monitoring\",,2017,\"INTERSPEECH, 2118-2122\",\"/files/Saeb_2017_Interspeech.pdf\",\r\n",
      "\"Raghav Menon, Armin Saeb, Hugh Cameron, William Kibira, John Quinn, Thomas Niesler\",\"Radio-browsing for developmental monitoring in Uganda\",,2017,\"IEEE International Conference on Acoustics, Speech and Signal Processing (ICASSP)\",\"/files/Menon_2017_ICASSP.pdf\",\r\n",
      "\"Pulse Lab Kampala\",\"Using Machine Learning to Analyse Radio Content in Uganda\",,2017,\"United Nations Global Pulse\",\"/files/PLK_2017_Radio.pdf\",\"[Project page](https://radio.unglobalpulse.net//uganda/)\"\r\n",
      "\"John A Quinn, Rose Nakasi, Pius KB Mugagga, Patrick Byanyima, William Lubega, Alfred Andama\",\"Deep convolutional neural networks for microscopy-based point of care diagnostics\",,2016,\"Machine Learning for Healthcare Conference\",\"/files/Quinn_2016_MLHC.pdf\",\"[Project page, code and data](http://air.ug/microscopy)\"\r\n",
      "\"Ciira wa Maina, Mike Smith, Ernest Mwebaze, Andreas Damianou, Martin Mubangizi, John A. Quinn, Neil D. Lawrence\",\"Data Science Africa–An Initiative to Bridge the Data Science Skills Gap in Africa\",,2016,\"SciDataCon\",\"/files/Maina_2016_DataScienceAfrica.pdf\",\r\n",
      "\"Ricardo Andrade-Pacheco, Martin Mubangizi, John Quinn, Neil Lawrence\",\"Monitoring Short Term Changes of Infectious Diseases in Uganda with Gaussian Processes\",,2015,\"International Workshop on Advanced Analysis and Learning on Temporal Data\",\"/files/Andrade-Pacheco_2015_AALTD.pdf\",\r\n",
      "\"John A Quinn, Masashi Sugiyama\",\"A least-squares approach to anomaly detection in static and sequential data\",,2014,\"Pattern Recognition Letters 40, 36-40\",\"/files/Quinn_2007_PatternRecognitionLetters.pdf\",\"[Code](https://github.com/lsanomaly/lsanomaly)\"\r\n",
      "\"John A Quinn, Alfred Andama, Ian Munabi, Fred N Kiwanuka\",\"Automated Blood Smear Analysis for Mobile Malaria Diagnosis\",,2014,\"Chapter in ‘Mobile Point-of-Care Monitors and Diagnostic Device Design’, CRC Press\",\"/files/Quinn_2014_MobilePointOfCare.pdf\",\r\n",
      "\"Song Liu, John A Quinn, Michael U Gutmann, Taiji Suzuki, Masashi Sugiyama\",\"Direct learning of sparse changes in Markov networks by density ratio estimation\",,2014,\"Neural Computation (26) 6, 1169-1197\",\"/files/Liu_2014_NeuralComputation.pdf\",\r\n",
      "\"John Quinn, Vanessa Frias-Martinez, Lakshminarayan Subramanian\",\"Computational sustainability and artificial intelligence in the developing world\",,2014,\"AI Magazine (35) 3, 36-47\",\"/files/Quinn_2014_AIMagazine.pdf\",\r\n",
      "\"Godliver Owomugisha, John A Quinn, Ernest Mwebaze, James Lwasa\",\"Automated Vision-Based Diagnosis of Banana Bacterial Wilt Disease and Black Sigatoka Disease\",,2014,\"International Conference on the Use of Mobile Information and Communications Technology in Africa\",\"/files/Owomugisha_2014_UMICTA.pdf\",\r\n",
      "\"Ricardo Andrade-Pacheco, Martin Mubangizi, John Quinn, Neil D Lawrence\",\"Consistent mapping of government malaria records across a changing territory delimitation\",,2014,\"Malaria Journal 2014 13 (Suppl 1):P5\",\"/files/Andrade-Pacheco_2014_Malaria.pdf\",\r\n",
      "\"Joviah Tuhaise, John A Quinn, Ernest Mwebaze\",\"Pixel Classification Methods for Automatic Symptom Measurement of Cassava Brown Streak Disease\",,2014,\"International Conference on the Use of Mobile Information and Communications Technology in Africa\",\"/files/Tuhaise_2014_CassavaBrownStreak.pdf\",\r\n",
      "\"I Ndibatya, Marthinus J Booysen, J Quinn\",\"An adaptive transportation prediction model for the informal public transport sector in Africa\",,2014,\"IEEE Conference on Intelligent Transportation Systems \",\"/files/Ndibatya_2014_Transportation.pdf\",\r\n",
      "\"Martin Mubangizi, Ricardo Andrade-Pacheco, Michael Smith, John A Quinn, Neil Lawrence\",\"Malaria surveillance with multiple data sources using Gaussian process models\",,2014,\"International Conference on the Use of Mobile Information and Communications Technology in Africa\",\"/files/Mubangizi_2014_MalariaSurveillance.pdf\",\r\n",
      "\"Rose Nakibuule, John Quinn\",\"Performance Evaluation of a Low Cost Vision-Based Traffic Flow Monitoring System\",,2014,\"International Conference on the Use of Mobile Information and Communications Technology in Africa\",\"/files/Nakibuule_2014_TrafficEvaluation.pdf\",\r\n",
      "\"Richard Ssekibuule, John A Quinn, Kevin Leyton-Brown\",\"A mobile market for agricultural trade in Uganda\",,2013,\"Proceedings of the 4th Annual Symposium on Computing for Development\",\"/files/Ssekibuule_2013_ACMDEV.pdf\",\r\n",
      "\"Song Liu, John A Quinn, Michael U Gutmann, Masashi Sugiyama\",\"Direct learning of sparse changes in Markov networks by density ratio estimation\",,2013,\"European Conference on Machine Learning(ECML)\",\"/files/Liu_2013_ECML.pdf\",\r\n",
      "\"John Quinn\",\"Computational Techniques for Crop Disease Monitoring in the Developing World\",,2013,\"Symposium on Intelligent Data Analysis (IDA)\",\"/files/Quinn_2013_CropDiseaseMonitoring.pdf\",\r\n",
      "\"Rose Nakibuule, Joseph Ssenyange, John A Quinn\",\"Low cost video-based traffic congestion monitoring using phones as sensors\",,2013,\"ACM Symposium on Computing for Development\",\"/files/Nakibuule_2013_TrafficMonitoring.pdf\",\r\n",
      "\"John A Quinn, Masashi Sugiyama\",\"Density ratio hidden Markov models\",,2013,\"arXiv:1302.3700\",\"https://arxiv.org/pdf/1302.3700\",\r\n",
      "\"Martin Mubangizi, Catherine Ikae, Athina Spiliopoulou, John A Quinn\",\"Coupling Spatiotemporal Disease Modeling with Diagnosis\",,2012,\"AAAI\",\"/files/Mubangizi_2012_AAAI.pdf\",\r\n",
      "\"Ernest Mwebaze, Petra Schneider, F-M Schleif, Jennifer R Aduwo, John A Quinn, Sven Haase, Thomas Villmann, Michael Biehl\",\"Divergence-based classification in learning vector quantization\",,2011,\"Neurocomputing (74) 9, 1429-1435\",\"/files/Mwebaze_2011_Neurocomputing.pdf\",\r\n",
      "\"John Alexander Quinn, Kevin Leyton-Brown, Ernest Mwebaze\",\"Modeling and Monitoring Crop Disease in Developing Countries\",,2011,\"AAAI\",\"/files/Quinn_2011_AAAI.pdf\",\r\n",
      "\"J Quinn, Joris M Mooij, Tom Heskes, Michael Biehl\",\"Learning of causal relations\",,2011,\"ESANN\",\"/files/Quinn_2011_CausalRelations.pdf\",\r\n",
      "\"John Quinn, Christopher Williams\",\"Physiological Monitoring with Factorial Switching Linear Dynamical Systems\",,2011,\"Chapter in ‘Bayesian Times Series Models’, Cambridge University Press\",\"/files/Quinn_2011_PhysiologicalMonitoring.pdf\",\r\n",
      "\"Ernest Mwebaze, John A Quinn, Michael Biehl\",\"Causal relevance learning for robust classification under interventions\",,2011,\"ESANN\",\"/files/Mwebaze_2011_CausalRelevance.pdf\",\r\n",
      "\"Jennifer R Aduwo, Ernest Mwebaze, John A Quinn\",\"Automated Vision-Based Diagnosis of Cassava Mosaic Disease\",,2010,\"Industrial Conference on Data Mining Workshops, 114-122\",\"/files/Aduwo_2010_CassavaMosaic.pdf\",\r\n",
      "\"John Alexander Quinn, Rose Nakibuule\",\"Traffic Flow Monitoring in Crowded Cities\",,2010,\"AAAI Spring Symposium: Artificial Intelligence for Development\",\"/files/Quinn_2010_Traffic.pdf\",\r\n",
      "\"John A Quinn, Washington Okori, Anthony Gidudu\",\"Increased-specificity famine prediction using satellite observation data\",,2010,\"ACM Symposium on Computing for Development\",\"/files/Quinn_2010_ACMDEV.pdf\",\r\n",
      "\"Ernest Mwebaze, Washington Okori, John Alexander Quinn\",\"Causal structure learning for famine prediction\",,2010,\"AAAI Spring Symposium: Artificial Intelligence for Development\",\"/files/Mwebaze_2010_CausalFaminePrediction.pdf\",\r\n",
      "\"Ernest Mwebaze, John A Quinn\",\"Fast committee-based structure learning\",,2008,\"Advances in Neural Information Processing Systems: Workshop on Causality\",\"/files/Mwebaze_2008_StructureLearning.pdf\",\r\n",
      "\"Nathan Eagle, Aaron Clauset, John A Quinn\",\"Location Segmentation, Inference and Prediction for Anticipatory Computing\",,2009,\"AAAI Spring Symposium: Technosocial Predictive Analytics, 20-25\",\"/files/Eagle_2009_AAAISpringSymposium.pdf\",\r\n",
      "\"Nathan Eagle, John A Quinn, Aaron Clauset\",\"Methodologies for continuous cellular tower data analysis\",,2009,\"International Conference on Pervasive Computing, 342-353\",\"/files/Eagle_2009_Pervasive.pdf\",\r\n",
      "\"Martin Mubangizi, Ernest Mwebaze, John A Quinn\",\"Computational Prediction of Cholera Outbreaks\",,2009,\"ICCIR, Kampala\",\"/files/Mubangizi_2009_Cholera.pdf\",\r\n",
      "\"John A Quinn, Christopher KI Williams, Neil McIntosh\",\"Factorial switching linear dynamical systems applied to physiological condition monitoring\",,2008,\"IEEE Transactions on Pattern Analysis and Machine Intelligence (31) 9, 1537-1551\",\"/files/Quinn_2008_TPAMI.pdf\",\r\n",
      "\"John A Quinn, Christopher KI Williams\",\"Signal masking in Gaussian channels\",,2008,\"International Conference on Acoustics, Speech and Signal Processing \",\"/files/Quinn_2008_SignalMasking.pdf\",\r\n",
      "\"John A Quinn, Christopher KI Williams\",\"Known unknowns: Novelty detection in condition monitoring\",,2007,\"Iberian Conference on Pattern Recognition and Image Analysis, 1-6\",\"/files/Quinn_2007_KnownUnknowns.pdf\",\r\n",
      "\"John Quinn\",\"Bayesian Condition Monitoring in Neonatal Intensive Care\",,2007,\"PhD thesis, University of Edinburgh\",\"/files/Quinn_2007_Thesis.pdf\",\r\n",
      "\"Charles Fox, John Quinn\",\"How to be lost: Principled priming and pruning with particles in score following\",,2007,\"International Computer Music Conference\",\"/files/Fox_2007_ScoreFollowing.pdf\",\r\n",
      "\"Christopher Williams, John Quinn, Neil McIntosh\",\"Factorial Switching Kalman Filters for Condition Monitoring in Neonatal Intensive Care\",,2005,\"Advances in Neural Information Processing Systems 18\",\"/files/Williams_2005_NeurIPS.pdf\",\r\n",
      "\"Anna S Law, Yvonne Freer, Jim Hunter, Robert H Logie, Neil Mcintosh, John Quinn\",\"A comparison of graphical and textual presentations of time series data to support medical decision making in the neonatal intensive care unit\",,2005,\"Journal of Clinical Monitoring and Computing (19) 3, 183-194\",\"/files/Law_2005_ClinicalMonitoringComputing.pdf\",\r\n"
     ]
    }
   ],
   "source": [
    "!cat publications.csv"
   ]
  },
  {
   "cell_type": "markdown",
   "metadata": {},
   "source": [
    "## Import pandas\n",
    "\n",
    "We are using the very handy pandas library for dataframes."
   ]
  },
  {
   "cell_type": "code",
   "execution_count": 2,
   "metadata": {},
   "outputs": [],
   "source": [
    "import pandas as pd"
   ]
  },
  {
   "cell_type": "markdown",
   "metadata": {},
   "source": [
    "## Import publications table\n",
    "\n",
    "Pandas makes this easy with the read_csv function. We are using a TSV, so we specify the separator as a tab, or `\\t`.\n",
    "\n",
    "I found it important to put this data in a tab-separated values format, because there are a lot of commas in this kind of data and comma-separated values can get messed up. However, you can modify the import statement, as pandas also has read_excel(), read_json(), and others."
   ]
  },
  {
   "cell_type": "code",
   "execution_count": 26,
   "metadata": {},
   "outputs": [
    {
     "data": {
      "text/html": [
       "<div>\n",
       "<style scoped>\n",
       "    .dataframe tbody tr th:only-of-type {\n",
       "        vertical-align: middle;\n",
       "    }\n",
       "\n",
       "    .dataframe tbody tr th {\n",
       "        vertical-align: top;\n",
       "    }\n",
       "\n",
       "    .dataframe thead th {\n",
       "        text-align: right;\n",
       "    }\n",
       "</style>\n",
       "<table border=\"1\" class=\"dataframe\">\n",
       "  <thead>\n",
       "    <tr style=\"text-align: right;\">\n",
       "      <th></th>\n",
       "      <th>citation</th>\n",
       "      <th>title</th>\n",
       "      <th>url_slug</th>\n",
       "      <th>pub_date</th>\n",
       "      <th>venue</th>\n",
       "      <th>paper_url</th>\n",
       "      <th>excerpt</th>\n",
       "    </tr>\n",
       "  </thead>\n",
       "  <tbody>\n",
       "    <tr>\n",
       "      <th>0</th>\n",
       "      <td>Benjamin Akera, Jonathan Mukiibi, Lydia Sanyu ...</td>\n",
       "      <td>Machine Translation For African Languages: Co...</td>\n",
       "      <td>NaN</td>\n",
       "      <td>2022</td>\n",
       "      <td>3rd Workshop on African Natural Language Proce...</td>\n",
       "      <td>https://openreview.net/pdf?id=BK-z5qzEU-9</td>\n",
       "      <td>[SALT translation dataset](https://github.com/...</td>\n",
       "    </tr>\n",
       "    <tr>\n",
       "      <th>1</th>\n",
       "      <td>Ewald van der Westhuizen, Herman Kamper, Ragha...</td>\n",
       "      <td>Feature learning for efficient ASR-free keywor...</td>\n",
       "      <td>NaN</td>\n",
       "      <td>2022</td>\n",
       "      <td>Computer Speech &amp; Language (17)</td>\n",
       "      <td>https://arxiv.org/pdf/2108.06174</td>\n",
       "      <td>NaN</td>\n",
       "    </tr>\n",
       "    <tr>\n",
       "      <th>2</th>\n",
       "      <td>Wojciech Sirko, Sergii Kashubin, Marvin Ritter...</td>\n",
       "      <td>Continental-scale building detection from high...</td>\n",
       "      <td>NaN</td>\n",
       "      <td>2021</td>\n",
       "      <td>arXiv:2107.12283</td>\n",
       "      <td>https://arxiv.org/pdf/2107.12283</td>\n",
       "      <td>[Open Buildings site](https://sites.research....</td>\n",
       "    </tr>\n",
       "    <tr>\n",
       "      <th>3</th>\n",
       "      <td>Tomaz Logar, Joseph Bullock, Edoardo Nemni, La...</td>\n",
       "      <td>PulseSatellite: A Tool Using Human-AI Feedback...</td>\n",
       "      <td>NaN</td>\n",
       "      <td>2020</td>\n",
       "      <td>AAAI (Demo Track)</td>\n",
       "      <td>https://arxiv.org/pdf/2001.10685.pdf</td>\n",
       "      <td>[PulseSatellite project page](https://www.ungl...</td>\n",
       "    </tr>\n",
       "    <tr>\n",
       "      <th>4</th>\n",
       "      <td>Godliver Owomugisha, Ephraim Nuwamanya, John A...</td>\n",
       "      <td>Early detection of plant diseases using spectr...</td>\n",
       "      <td>NaN</td>\n",
       "      <td>2020</td>\n",
       "      <td>International Conference on Applications of In...</td>\n",
       "      <td>/files/Owomugisha_2020_Spectral.pdf</td>\n",
       "      <td>NaN</td>\n",
       "    </tr>\n",
       "  </tbody>\n",
       "</table>\n",
       "</div>"
      ],
      "text/plain": [
       "                                            citation  \\\n",
       "0  Benjamin Akera, Jonathan Mukiibi, Lydia Sanyu ...   \n",
       "1  Ewald van der Westhuizen, Herman Kamper, Ragha...   \n",
       "2  Wojciech Sirko, Sergii Kashubin, Marvin Ritter...   \n",
       "3  Tomaz Logar, Joseph Bullock, Edoardo Nemni, La...   \n",
       "4  Godliver Owomugisha, Ephraim Nuwamanya, John A...   \n",
       "\n",
       "                                               title  url_slug  pub_date  \\\n",
       "0   Machine Translation For African Languages: Co...       NaN      2022   \n",
       "1  Feature learning for efficient ASR-free keywor...       NaN      2022   \n",
       "2  Continental-scale building detection from high...       NaN      2021   \n",
       "3  PulseSatellite: A Tool Using Human-AI Feedback...       NaN      2020   \n",
       "4  Early detection of plant diseases using spectr...       NaN      2020   \n",
       "\n",
       "                                               venue  \\\n",
       "0  3rd Workshop on African Natural Language Proce...   \n",
       "1                    Computer Speech & Language (17)   \n",
       "2                                   arXiv:2107.12283   \n",
       "3                                  AAAI (Demo Track)   \n",
       "4  International Conference on Applications of In...   \n",
       "\n",
       "                                   paper_url  \\\n",
       "0  https://openreview.net/pdf?id=BK-z5qzEU-9   \n",
       "1           https://arxiv.org/pdf/2108.06174   \n",
       "2           https://arxiv.org/pdf/2107.12283   \n",
       "3       https://arxiv.org/pdf/2001.10685.pdf   \n",
       "4        /files/Owomugisha_2020_Spectral.pdf   \n",
       "\n",
       "                                             excerpt  \n",
       "0  [SALT translation dataset](https://github.com/...  \n",
       "1                                                NaN  \n",
       "2   [Open Buildings site](https://sites.research....  \n",
       "3  [PulseSatellite project page](https://www.ungl...  \n",
       "4                                                NaN  "
      ]
     },
     "execution_count": 26,
     "metadata": {},
     "output_type": "execute_result"
    }
   ],
   "source": [
    "publications = pd.read_csv(\"publications.csv\", sep=\",\", header=0)\n",
    "publications.head()"
   ]
  },
  {
   "cell_type": "markdown",
   "metadata": {},
   "source": [
    "## Create URL slug from title and year"
   ]
  },
  {
   "cell_type": "code",
   "execution_count": 27,
   "metadata": {},
   "outputs": [],
   "source": [
    "import re\n",
    "\n",
    "url_slugs = []\n",
    "for i in publications.index:\n",
    "    title_words = publications.title[i].lower().split()\n",
    "    title_words = [re.sub('[\\W_]+', '', w) for w in title_words]\n",
    "    if len(title_words) > 5:\n",
    "        title_words = title_words[:5]\n",
    "    slug = '-'.join(title_words)\n",
    "    url_slugs.append(slug)\n",
    "\n",
    "publications['url_slug'] = url_slugs"
   ]
  },
  {
   "cell_type": "markdown",
   "metadata": {},
   "source": [
    "## Escape special characters\n",
    "\n",
    "YAML is very picky about how it takes a valid string, so we are replacing single and double quotes (and ampersands) with their HTML encoded equivilents. This makes them look not so readable in raw format, but they are parsed and rendered nicely."
   ]
  },
  {
   "cell_type": "code",
   "execution_count": 28,
   "metadata": {},
   "outputs": [],
   "source": [
    "html_escape_table = {\n",
    "    \"&\": \"&amp;\",\n",
    "    '\"': \"&quot;\",\n",
    "    \"'\": \"&apos;\"\n",
    "    }\n",
    "\n",
    "def html_escape(text):\n",
    "    \"\"\"Produce entities within text.\"\"\"\n",
    "    return \"\".join(html_escape_table.get(c,c) for c in text)"
   ]
  },
  {
   "cell_type": "markdown",
   "metadata": {},
   "source": [
    "## Creating the markdown files\n",
    "\n",
    "This is where the heavy lifting is done. This loops through all the rows in the TSV dataframe, then starts to concatentate a big string (```md```) that contains the markdown for each type. It does the YAML metadata first, then does the description for the individual page."
   ]
  },
  {
   "cell_type": "code",
   "execution_count": 29,
   "metadata": {},
   "outputs": [],
   "source": [
    "!rm ../_publications/*.md"
   ]
  },
  {
   "cell_type": "code",
   "execution_count": 30,
   "metadata": {
    "jupyter": {
     "outputs_hidden": false
    }
   },
   "outputs": [],
   "source": [
    "import os\n",
    "for row, item in publications.iterrows():\n",
    "    \n",
    "    md_filename = str(item.pub_date) + \"-\" + item.url_slug + \".md\"\n",
    "    html_filename = str(item.pub_date) + \"-\" + item.url_slug\n",
    "    year = item.pub_date\n",
    "    \n",
    "    ## YAML variables\n",
    "    \n",
    "    md = \"---\\ntitle: \\\"\"   + item.title + '\"\\n'\n",
    "    \n",
    "    md += \"\"\"collection: publications\"\"\"\n",
    "    \n",
    "    md += \"\"\"\\npermalink: /publication/\"\"\" + html_filename\n",
    "    \n",
    "    if len(str(item.excerpt)) > 5:\n",
    "        md += \"\\nexcerpt: '\" + html_escape(item.excerpt) + \"'\"\n",
    "    \n",
    "    md += \"\\ndate: \" + str(item.pub_date) + '-01-01'\n",
    "    \n",
    "    md += \"\\nvenue: '\" + html_escape(item.venue) + \"'\"\n",
    "    \n",
    "    if len(str(item.paper_url)) > 5:\n",
    "        md += \"\\npaperurl: '\" + item.paper_url + \"'\"\n",
    "    \n",
    "    md += \"\\ncitation: '\" + html_escape(item.citation) + \"'\"\n",
    "    \n",
    "    md += \"\\n---\"\n",
    "    \n",
    "    ## Markdown description for individual page\n",
    "        \n",
    "    if len(str(item.excerpt)) > 5:\n",
    "        md += \"\\n\" + html_escape(item.excerpt)\n",
    "    \n",
    "    md_filename = os.path.basename(md_filename)\n",
    "       \n",
    "    with open(\"../_publications/\" + md_filename, 'w') as f:\n",
    "        f.write(md)"
   ]
  },
  {
   "cell_type": "markdown",
   "metadata": {},
   "source": [
    "These files are in the publications directory, one directory below where we're working from."
   ]
  },
  {
   "cell_type": "code",
   "execution_count": 31,
   "metadata": {
    "jupyter": {
     "outputs_hidden": true
    }
   },
   "outputs": [
    {
     "name": "stdout",
     "output_type": "stream",
     "text": [
      "2005-a-comparison-of-graphical-and.md\r\n",
      "2005-factorial-switching-kalman-filters-for.md\r\n",
      "2007-bayesian-condition-monitoring-in-neonatal.md\r\n",
      "2007-how-to-be-lost-principled.md\r\n",
      "2007-known-unknowns-novelty-detection-in.md\r\n",
      "2008-factorial-switching-linear-dynamical-systems.md\r\n",
      "2008-fast-committeebased-structure-learning.md\r\n",
      "2008-signal-masking-in-gaussian-channels.md\r\n",
      "2009-computational-prediction-of-cholera-outbreaks.md\r\n",
      "2009-location-segmentation-inference-and-prediction.md\r\n",
      "2009-methodologies-for-continuous-cellular-tower.md\r\n",
      "2010-automated-visionbased-diagnosis-of-cassava.md\r\n",
      "2010-causal-structure-learning-for-famine.md\r\n",
      "2010-increasedspecificity-famine-prediction-using-satellite.md\r\n",
      "2010-traffic-flow-monitoring-in-crowded.md\r\n",
      "2011-causal-relevance-learning-for-robust.md\r\n",
      "2011-divergencebased-classification-in-learning-vector.md\r\n",
      "2011-learning-of-causal-relations.md\r\n",
      "2011-modeling-and-monitoring-crop-disease.md\r\n",
      "2011-physiological-monitoring-with-factorial-switching.md\r\n",
      "2012-coupling-spatiotemporal-disease-modeling-with.md\r\n",
      "2013-a-mobile-market-for-agricultural.md\r\n",
      "2013-computational-techniques-for-crop-disease.md\r\n",
      "2013-density-ratio-hidden-markov-models.md\r\n",
      "2013-direct-learning-of-sparse-changes.md\r\n",
      "2013-low-cost-videobased-traffic-congestion.md\r\n",
      "2014-a-leastsquares-approach-to-anomaly.md\r\n",
      "2014-an-adaptive-transportation-prediction-model.md\r\n",
      "2014-automated-blood-smear-analysis-for.md\r\n",
      "2014-automated-visionbased-diagnosis-of-banana.md\r\n",
      "2014-computational-sustainability-and-artificial-intelligence.md\r\n",
      "2014-consistent-mapping-of-government-malaria.md\r\n",
      "2014-direct-learning-of-sparse-changes.md\r\n",
      "2014-malaria-surveillance-with-multiple-data.md\r\n",
      "2014-performance-evaluation-of-a-low.md\r\n",
      "2014-pixel-classification-methods-for-automatic.md\r\n",
      "2015-monitoring-short-term-changes-of.md\r\n",
      "2016-data-science-africaan-initiative-to.md\r\n",
      "2016-deep-convolutional-neural-networks-for.md\r\n",
      "2017-radiobrowsing-for-developmental-monitoring-in.md\r\n",
      "2017-using-machine-learning-to-analyse.md\r\n",
      "2017-very-low-resource-radio-browsing.md\r\n",
      "2018-asrfree-cnndtw-keyword-spotting-using.md\r\n",
      "2018-automatic-speech-recognition-for-humanitarian.md\r\n",
      "2018-designing-and-evolving-an-electronic.md\r\n",
      "2018-fast-asrfree-and-almost-zeroresource.md\r\n",
      "2018-feature-exploration-for-almost-zeroresource.md\r\n",
      "2018-humanitarian-applications-of-machine-learning.md\r\n",
      "2018-identifying-seasonal-mobility-profiles-from.md\r\n",
      "2018-machine-learning-for-diagnosis-of.md\r\n",
      "2019-mobility-profiles-and-calendars-for.md\r\n",
      "2020-a-lowcost-3d-printed-smartphone.md\r\n",
      "2020-early-detection-of-plant-diseases.md\r\n",
      "2020-improving-infield-cassava-whitefly-pest.md\r\n",
      "2020-pulsesatellite-a-tool-using-humanai.md\r\n",
      "2021-continentalscale-building-detection-from-high.md\r\n",
      "2022-feature-learning-for-efficient-asrfree.md\r\n",
      "2022-machine-translation-for-african-languages.md\r\n"
     ]
    }
   ],
   "source": [
    "!ls ../_publications/"
   ]
  },
  {
   "cell_type": "code",
   "execution_count": 18,
   "metadata": {
    "jupyter": {
     "outputs_hidden": false
    }
   },
   "outputs": [
    {
     "name": "stdout",
     "output_type": "stream",
     "text": [
      "---\r\n",
      "title: \"PulseSatellite: A Tool Using Human-AI Feedback Loops for Satellite Image Analysis in Humanitarian Contexts\"\r\n",
      "collection: publications\r\n",
      "permalink: /publication/2020-pulsesatellite-a-tool-using-humanai\r\n",
      "excerpt: '[PulseSatellite project page](https://www.unglobalpulse.org/microsite/pulsesatellite/)'\r\n",
      "date: 2020-01-01\r\n",
      "venue: 'AAAI (Demo Track)'\r\n",
      "paperurl: 'https://arxiv.org/pdf/2001.10685.pdf'\r\n",
      "citation: 'Tomaz Logar, Joseph Bullock, Edoardo Nemni, Lars Bromley, John A Quinn, Miguel Luengo-Oroz'\r\n",
      "---\r\n",
      "[PulseSatellite project page](https://www.unglobalpulse.org/microsite/pulsesatellite/)"
     ]
    }
   ],
   "source": [
    "!cat ../_publications/2020-pulsesatellite-a-tool-using-humanai.md"
   ]
  },
  {
   "cell_type": "markdown",
   "metadata": {},
   "source": [
    "## Retrieve publications from Google Scholar\n",
    "\n",
    "Can be helpful for retrieving the details to compile ```publications.tsv```."
   ]
  },
  {
   "cell_type": "code",
   "execution_count": 1,
   "metadata": {},
   "outputs": [],
   "source": [
    "SCHOLAR_ID = 'd4_ktUIAAAAJ'\n",
    "\n",
    "from scholarly import scholarly\n",
    "author = scholarly.search_author_id(SCHOLAR_ID)\n",
    "author['filled'] = set()\n",
    "author = scholarly.fill(author)\n",
    "unfilled_pubs = author['publications']\n",
    "pubs = [scholarly.fill(p) for p in unfilled_pubs]"
   ]
  },
  {
   "cell_type": "code",
   "execution_count": 5,
   "metadata": {
    "collapsed": true,
    "jupyter": {
     "outputs_hidden": true
    }
   },
   "outputs": [
    {
     "name": "stdout",
     "output_type": "stream",
     "text": [
      "John A Quinn, Christopher KI Williams, Neil McIntosh\n",
      "Anna S Law, Yvonne Freer, Jim Hunter, Robert H Logie, Neil Mcintosh, John Quinn\n",
      "John A Quinn, Rose Nakasi, Pius KB Mugagga, Patrick Byanyima, William Lubega, Alfred Andama\n",
      "Ernest Mwebaze, Petra Schneider, F-M Schleif, Jennifer R Aduwo, John A Quinn, Sven Haase, Thomas Villmann, Michael Biehl\n",
      "Christopher Williams, John Quinn, Neil McIntosh\n",
      "John A Quinn, Christopher KI Williams\n",
      "John A Quinn, Masashi Sugiyama\n",
      "Nathan Eagle, Aaron Clauset, John A Quinn\n",
      "John A Quinn, Marguerite M Nyhan, Celia Navarro, Davide Coluccia, Lars Bromley, Miguel Luengo-Oroz\n",
      "Nathan Eagle, John A Quinn, Aaron Clauset\n",
      "John A Quinn, Alfred Andama, Ian Munabi, Fred N Kiwanuka\n",
      "Song Liu, John A Quinn, Michael U Gutmann, Taiji Suzuki, Masashi Sugiyama\n",
      "John Alexander Quinn, Kevin Leyton-Brown, Ernest Mwebaze\n",
      "Jennifer R Aduwo, Ernest Mwebaze, John A Quinn\n",
      "John Alexander Quinn, Rose Nakibuule\n",
      "John Quinn, Vanessa Frias-Martinez, Lakshminarayan Subramanian\n",
      "Godliver Owomugisha, John A Quinn, Ernest Mwebaze, James Lwasa\n",
      "John Quinn\n",
      "Armin Saeb, Raghav Menon, Hugh Cameron, William Kibira, John Quinn, Thomas Niesler\n",
      "Richard Ssekibuule, John A Quinn, Kevin Leyton-Brown\n",
      "Song Liu, John A Quinn, Michael U Gutmann, Masashi Sugiyama\n",
      "Raghav Menon, Herman Kamper, John Quinn, Thomas Niesler\n",
      "Raghav Menon, Armin Saeb, Hugh Cameron, William Kibira, John Quinn, Thomas Niesler\n",
      "John A Quinn, Washington Okori, Anthony Gidudu\n",
      "Pedro J Zufiria, David Pastor-Escuredo, Luis Úbeda-Medina, Miguel A Hernandez-Medina, Iker Barriales-Valbuena, Alfredo J Morales, Damien C Jacques, Wilfred Nkwambi, M Bamba Diop, John Quinn, Paula Hidalgo-Sanchís, Miguel Luengo-Oroz\n",
      "Raghav Menon, Herman Kamper, Ewald van der Westhuizen, John Quinn, Thomas Niesler\n",
      "J Quinn, Joris M Mooij, Tom Heskes, Michael Biehl\n",
      "Ernest Mwebaze, Washington Okori, John Alexander Quinn\n",
      "Martin Mubangizi, Catherine Ikae, Athina Spiliopoulou, John A Quinn\n",
      "Joan Martí, José M Benedí, Ana M Mendonça, Joan Serrat\n",
      "Charles Fox, John Quinn\n",
      "Godliver Owomugisha, Friedrich Melchert, Ernest Mwebaze, John A Quinn, Michael Biehl\n",
      "John Quinn\n",
      "Neil Newman, Lauren Falcao Bergquist, Nicole Immorlica, Kevin Leyton-Brown, Brendan Lucier, Craig McIntosh, John Quinn, Richard Ssekibuule\n",
      "Ricardo Andrade-Pacheco, Martin Mubangizi, John Quinn, Neil Lawrence\n",
      "Ricardo Andrade-Pacheco, Martin Mubangizi, John Quinn, Neil D Lawrence\n",
      "Tomaz Logar, Joseph Bullock, Edoardo Nemni, Lars Bromley, John A Quinn, Miguel A Luengo-Oroz\n",
      "Ernest Mwebaze, John A Quinn\n",
      "Raghav Menon, Astik Biswas, Armin Saeb, John Quinn, Thomas Niesler\n",
      "Raghav Menon, Herman Kamper, Emre Yilmaz, John Quinn, Thomas Niesler\n",
      "Ian G Munabi, William Buwembo, Francis Bajunirwe, David Lagoro Kitara, Ruberwa Joseph, Kawungezi Peter, Celestino Obua, John Quinn, Erisa S Mwaka\n",
      "Joviah Tuhaise, John A Quinn, Ernest Mwebaze\n",
      "Rose Nakibuule, Joseph Ssenyange, John A Quinn\n",
      "John Quinn, Christopher Williams\n",
      "Pedro J Zufiria, David Pastor-Escuredo, Luis Ubeda Medina, Miguel A Hernandez Medina, Iker Barriales Valbuena, Alfredo J Morales, Wilfred Nkwambi, John Quinn, Paula Hidalgo Sanchis, Miguel Luengo-Oroz\n",
      "Wa Maina Ciira\n",
      "Ricardo Andrade-Pacheco, Martin Mubangizi, John Quinn, Neil Lawrence\n",
      "I Ndibatya, Marthinus J Booysen, J Quinn\n",
      "John A Quinn, Masashi Sugiyama\n",
      "MARTIN Mubangizi, ERNEST Mwebaze, JOHN A Quinn\n",
      "Godliver Owomugisha, Ephraim Nuwamanya, John A Quinn, Michael Biehl, Ernest Mwebaze\n",
      "Martin Mubangizi, Ricardo Andrade-Pacheco, Michael Smith, John A Quinn, Neil Lawrence\n",
      "Ernest Mwebaze, John A Quinn, Michael Biehl\n",
      "Ernest Mwebaze, John A Quinn\n",
      "Godliver Owomugisha, Pius KB Mugagga, Friedrich Melchert, Ernest Mwebaze, John A Quinn, Michael Biehl\n",
      "Jeremy Francis Tusubira, Solomon Nsumba, Flavia Ninsiima, Benjamin Akera, Guy Acellam, Joyce Nakatumba, Ernest Mwebaze, John Quinn, Tonny Oyana\n",
      "Rose Nakibuule, John Quinn\n",
      "Song LIU, John A QUINN, Michael U GUTMANN, Masashi SUGIYAMA\n",
      "John A Lee, Petra Schneider, John Quinn\n",
      "John A Quinn, Christopher KI Williams\n",
      "B Wefers, N McIntosh, J Quinn\n",
      "J Quinn, P Badger, A Lyon, N McIntosh\n",
      "Song Liu, John A Quinn, Michael U Gutmann, Masashi Sugiyama\n",
      "J Quinn, CKI Williams, N McIntosh, B Wefers\n"
     ]
    }
   ],
   "source": [
    "for p in pubs:\n",
    "    author_list = p['bib']['author']\n",
    "    author_list = author_list.replace(' and ',', ')\n",
    "    print(author_list)"
   ]
  },
  {
   "cell_type": "code",
   "execution_count": null,
   "metadata": {},
   "outputs": [],
   "source": [
    "for p in pubs:\n",
    "    b = p['bib']\n",
    "    venue =  '-'\n",
    "    if 'journal' in b:\n",
    "        venue = f\"{b.get('journal')} ({b.get('volume')}) {b.get('number')}, {b.get('pages')}\"\n",
    "    print(venue)"
   ]
  },
  {
   "cell_type": "code",
   "execution_count": null,
   "metadata": {
    "collapsed": true,
    "jupyter": {
     "outputs_hidden": true
    }
   },
   "outputs": [],
   "source": [
    "for p in pubs:\n",
    "    print(p['bib']['title'])\n",
    "    \n",
    "for p in pubs:\n",
    "    print(p['bib']['pub_year'])"
   ]
  },
  {
   "cell_type": "code",
   "execution_count": 12,
   "metadata": {
    "collapsed": true,
    "jupyter": {
     "outputs_hidden": true
    }
   },
   "outputs": [
    {
     "data": {
      "text/plain": [
       "['http://citeseerx.ist.psu.edu/viewdoc/download?doi=10.1.1.832.5824&rep=rep1&type=pdf',\n",
       " 'http://citeseerx.ist.psu.edu/viewdoc/download?doi=10.1.1.118.5805&rep=rep1&type=pdf',\n",
       " 'http://www.jmlr.org/proceedings/papers/v56/Quinn16.pdf',\n",
       " 'https://www.rug.nl/research/portal/files/2489124/2011NeurocompMwebaze.pdf',\n",
       " 'https://papers.nips.cc/paper/2005/file/aeefb050911334869a7a5d9e4d0e1689-Paper.pdf',\n",
       " 'http://www.research.ed.ac.uk/portal/files/21892425/knownunknowns.pdf',\n",
       " 'http://cit.mak.ac.ug/staff/jquinn/papers/PRLetters_LSAnomalyDetection.pdf',\n",
       " 'https://www.aaai.org/Papers/Symposia/Spring/2009/SS-09-09/SS09-09-005.pdf',\n",
       " 'https://royalsocietypublishing.org/doi/pdf/10.1098/rsta.2017.0363',\n",
       " 'http://realitycommons.media.mit.edu/pdfs/pervasive09.pdf',\n",
       " 'http://air.ug/~jquinn/papers/AutomatedMalariaDiagnosisChapter.pdf',\n",
       " 'http://www.ms.k.u-tokyo.ac.jp/2014/CDKLIEP2.pdf',\n",
       " 'https://cit.mak.ac.ug/staff/jquinn/papers/aaai11cropmonitoring.pdf',\n",
       " 'http://air.ug/mcrops/papers/dma2010.pdf',\n",
       " 'https://www.ai-d.org/pdfs/Quinn.pdf',\n",
       " 'https://www.aaai.org/ojs/index.php/aimagazine/article/download/2529/2437',\n",
       " 'https://www.researchgate.net/profile/James_Lwasa/publication/333683045_Automated_Vision-Based_Diagnosis_of_Banana_Bacterial_Wilt_Disease_and_Black_Sigatoka_Disease/links/5cff910aa6fdccd13091f6cc/Automated-Vision-Based-Diagnosis-of-Banana-Bacterial-Wilt-Disease-and-Black-Sigatoka-Disease.pdf',\n",
       " 'https://era.ed.ac.uk/bitstream/handle/1842/2144/Quinn2007.pdf?sequence=1&isAllowed=y',\n",
       " 'http://air.ug/~jquinn/papers/interspeech17-radio.pdf',\n",
       " 'https://www.researchgate.net/profile/Richard_Ssekibuule/publication/262212005_A_mobile_market_for_agricultural_trade_in_Uganda/links/5440bb6a0cf2fd72f99de1c8/A-mobile-market-for-agricultural-trade-in-Uganda.pdf',\n",
       " 'https://link.springer.com/content/pdf/10.1007/978-3-642-40991-2_38.pdf',\n",
       " 'https://arxiv.org/pdf/1806.09374',\n",
       " 'http://dsp.sun.ac.za/~trn/reports/menon+saeb+cameron+kibira+quinn+niesler_icassp17.pdf',\n",
       " 'https://www.academia.edu/download/50924419/Increased-specificity_famine_prediction_20161216-32402-1h0xgmc.pdf',\n",
       " 'https://journals.plos.org/plosone/article?id=10.1371/journal.pone.0195714',\n",
       " 'https://arxiv.org/pdf/1811.08284',\n",
       " 'https://repository.ubn.ru.nl/bitstream/handle/2066/91996/91996.pdf',\n",
       " 'http://www.ai-d.org/pdfs/Mwebaze.pdf',\n",
       " 'https://citeseerx.ist.psu.edu/viewdoc/download?doi=10.1.1.700.6368&rep=rep1&type=pdf',\n",
       " None,\n",
       " 'http://air.ug/~jquinn/papers/how-to-be-lost.pdf',\n",
       " 'https://csce.ucmss.com/cr/books/2018/LFS/CSREA2018/ICA3558.pdf',\n",
       " 'http://air.ug/mcrops/papers/ida2013.pdf',\n",
       " 'http://air.ug/~jquinn/papers/COMPASS2018_kudu.pdf',\n",
       " None,\n",
       " 'https://malariajournal.biomedcentral.com/track/pdf/10.1186/1475-2875-13-S1-P5?site=http://malariajournal.biomedcentral.com',\n",
       " 'https://arxiv.org/pdf/2001.10685',\n",
       " 'http://www.jmlr.org/proceedings/papers/v6/mwebaze10a/mwebaze10a.pdf',\n",
       " 'https://arxiv.org/pdf/1807.08669',\n",
       " 'https://arxiv.org/pdf/1807.08666',\n",
       " 'https://link.springer.com/article/10.1186/s13104-015-1013-3',\n",
       " 'http://citeseerx.ist.psu.edu/viewdoc/download?doi=10.1.1.708.3936&rep=rep1&type=pdf',\n",
       " 'http://dev3.acmdev.org/posters/dev-final49.pdf',\n",
       " 'https://homepages.inf.ed.ac.uk/ckiw/postscript/PMTSAchapter.pdf',\n",
       " 'https://arxiv.org/pdf/1904.08525',\n",
       " 'http://repository.dkut.ac.ke:8080/xmlui/bitstream/handle/123456789/608/DSA-Abstract_v2.pdf?sequence=1',\n",
       " 'http://air.ug/~jquinn/papers/aaltd2015malaria.pdf',\n",
       " 'http://scholar.sun.ac.za/bitstream/handle/10019.1/96184/ndibatya_adaptive_2014.pdf?sequence=1&isAllowed=y',\n",
       " 'https://arxiv.org/pdf/1302.3700',\n",
       " 'http://www.academia.edu/download/31045188/Mubangizi-ICCIR2009.pdf',\n",
       " 'https://www.rug.nl/research/portal/files/121189423/72787761_5469932_APPIS2020_Preprint.pdf',\n",
       " 'http://citeseerx.ist.psu.edu/viewdoc/download?doi=10.1.1.707.2864&rep=rep1&type=pdf',\n",
       " 'https://www.researchgate.net/profile/Michael_Biehl/publication/221166180_Causal_Relevance_Learning_for_Robust_Classification_under_Interventions/links/0912f50a360277e6d2000000.pdf',\n",
       " 'http://www.ijcir.mak.ac.ug/specialissue2010/article4.pdf',\n",
       " None,\n",
       " 'http://openaccess.thecvf.com/content_CVPRW_2020/papers/w5/Tusubira_Improving_In-Field_Cassava_Whitefly_Pest_Surveillance_With_Machine_Learning_CVPRW_2020_paper.pdf',\n",
       " None,\n",
       " None,\n",
       " None,\n",
       " 'http://www.research.ed.ac.uk/portal/files/7913137/icassp08_v6_1_.pdf',\n",
       " None,\n",
       " 'http://www.cit.mak.ac.ug/staff/jquinn/espr03.pdf',\n",
       " None,\n",
       " 'http://cit.mak.ac.ug/staff/jquinn/espr06.pdf']"
      ]
     },
     "execution_count": 12,
     "metadata": {},
     "output_type": "execute_result"
    }
   ],
   "source": [
    "urls = []\n",
    "for p in pubs:\n",
    "    urls.append(p.get('eprint_url'))\n",
    "print(urls)"
   ]
  }
 ],
 "metadata": {
  "kernelspec": {
   "display_name": "Python 3 (ipykernel)",
   "language": "python",
   "name": "python3"
  },
  "language_info": {
   "codemirror_mode": {
    "name": "ipython",
    "version": 3
   },
   "file_extension": ".py",
   "mimetype": "text/x-python",
   "name": "python",
   "nbconvert_exporter": "python",
   "pygments_lexer": "ipython3",
   "version": "3.9.7"
  }
 },
 "nbformat": 4,
 "nbformat_minor": 4
}
