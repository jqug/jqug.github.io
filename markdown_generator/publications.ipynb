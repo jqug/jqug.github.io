{
 "cells": [
  {
   "cell_type": "markdown",
   "metadata": {
    "deletable": true,
    "editable": true
   },
   "source": [
    "# Publications markdown generator for academicpages\n",
    "\n",
    "Takes a TSV of publications with metadata and converts them for use with [academicpages.github.io](academicpages.github.io). This is an interactive Jupyter notebook ([see more info here](http://jupyter-notebook-beginner-guide.readthedocs.io/en/latest/what_is_jupyter.html)). The core python code is also in `publications.py`. Run either from the `markdown_generator` folder after replacing `publications.tsv` with one containing your data.\n",
    "\n",
    "TODO: Make this work with BibTex and other databases of citations, rather than Stuart's non-standard TSV format and citation style.\n"
   ]
  },
  {
   "cell_type": "markdown",
   "metadata": {},
   "source": [
    "## Data format\n",
    "\n",
    "The TSV needs to have the following columns: pub_date, title, venue, excerpt, citation, site_url, and paper_url, with a header at the top. \n",
    "\n",
    "- `excerpt` and `paper_url` can be blank, but the others must have values. \n",
    "- `pub_date` must be formatted as YYYY-MM-DD.\n",
    "- `url_slug` will be the descriptive part of the .md file and the permalink URL for the page about the paper. The .md file will be `YYYY-MM-DD-[url_slug].md` and the permalink will be `https://[yourdomain]/publications/YYYY-MM-DD-[url_slug]`\n",
    "\n",
    "This is how the raw file looks (it doesn't look pretty, use a spreadsheet or other program to edit and create)."
   ]
  },
  {
   "cell_type": "code",
   "execution_count": 40,
   "metadata": {
    "collapsed": true,
    "jupyter": {
     "outputs_hidden": true
    }
   },
   "outputs": [
    {
     "name": "stdout",
     "output_type": "stream",
     "text": [
      "citation,title,pub_date,venue,paper_url,excerpt\n",
      "\"Tomaz Logar, Joseph Bullock, Edoardo Nemni, Lars Bromley, John A Quinn, Miguel A Luengo-Oroz\",PulseSatellite: A Tool Using Human-AI Feedback Loops for Satellite Image Analysis in Humanitarian Contexts,2020,AAAI,https://arxiv.org/pdf/2001.10685.pdf,(PulseSatellite project page)[https://www.unglobalpulse.org/microsite/pulsesatellite/]\n",
      "\"Godliver Owomugisha, Ephraim Nuwamanya, John A Quinn, Michael Biehl, Ernest Mwebaze\",Early detection of plant diseases using spectral data,2020,International Conference on Applications of Intelligent Systems,Owomugisha_2020_Spectral.pdf,\n",
      "\"Godliver Owomugisha, Pius KB Mugagga, Friedrich Melchert, Ernest Mwebaze, John A Quinn, Michael Biehl\",A low-cost 3-D printed smartphone add-on spectrometer for diagnosis of crop diseases in field,2020,Conference on Computing and Sustainable Societies (COMPASS),Owomugisha_2020_COMPASS.pdf,\n",
      "\"Jeremy Francis Tusubira, Solomon Nsumba, Flavia Ninsiima, Benjamin Akera, Guy Acellam, Joyce Nakatumba, Ernest Mwebaze, John Quinn, Tonny Oyana\",Improving In-Field Cassava Whitefly Pest Surveillance With Machine Learning,2020,CVPR 2020 Workshops,Tusubira_2020_WhiteflyDetection.pdf,\n",
      "\"Pedro J Zufiria, David Pastor-Escuredo, Luis Ubeda Medina, Miguel A Hernandez Medina, Iker Barriales Valbuena, Alfredo J Morales, Wilfred Nkwambi, John Quinn, Paula Hidalgo Sanchis, Miguel Luengo-Oroz\",Mobility profiles and calendars for food security and livelihoods analysis,2019,arXiv:1904.08525, https://arxiv.org/pdf/1904.08525,\n",
      "\"John A Quinn, Marguerite M Nyhan, Celia Navarro, Davide Coluccia, Lars Bromley, Miguel Luengo-Oroz\",Humanitarian applications of machine learning with remote-sensing data: review and case study in refugee settlement mapping,2018,\"Philosophical Transactions of the Royal Society A: Mathematical, Physical and Engineering Sciences (376) 2128\",Quinn_2018_TransRoyalSoc.pdf,\n",
      "\"Raghav Menon, Herman Kamper, John Quinn, Thomas Niesler\",Fast ASR-free and almost zero-resource keyword spotting using DTW and CNNs for humanitarian monitoring,2018,arXiv:1806.09374, https://arxiv.org/pdf/1806.09374,\n",
      "\"Pedro J Zufiria, David Pastor-Escuredo, Luis Úbeda-Medina, Miguel A Hernandez-Medina, Iker Barriales-Valbuena, Alfredo J Morales, Damien C Jacques, Wilfred Nkwambi, M Bamba Diop, John Quinn, Paula Hidalgo-Sanchís, Miguel Luengo-Oroz\",Identifying seasonal mobility profiles from anonymized and aggregated mobile phone data. Application in food security,2018,\"PloS one (13) 4, e0195714\",Zufiria_2018_PloS.pdf,\n",
      "\"Raghav Menon, Herman Kamper, Ewald van der Westhuizen, John Quinn, Thomas Niesler\",Feature exploration for almost zero-resource ASR-free keyword spotting using a multilingual bottleneck extractor and correspondence autoencoders,2018,arXiv:1811.08284,https://arxiv.org/pdf/1811.08284,\n",
      "\"Godliver Owomugisha, Friedrich Melchert, Ernest Mwebaze, John A Quinn, Michael Biehl\",Machine Learning for diagnosis of disease in plants using spectral data,2018,Proceedings on the International Conference on Artificial Intelligence (ICAI),Owomugisha_2018_SpectralDiagnosis.pdf,\n",
      "\"Neil Newman, Lauren Falcao Bergquist, Nicole Immorlica, Kevin Leyton-Brown, Brendan Lucier, Craig McIntosh, John Quinn, Richard Ssekibuule\",Designing and evolving an electronic agricultural marketplace in Uganda,2018,Proceedings of the 1st ACM SIGCAS Conference on Computing and Sustainable Societies (COMPASS),Newman_2018_Kudu.pdf,\n",
      "\"Raghav Menon, Astik Biswas, Armin Saeb, John Quinn, Thomas Niesler\",Automatic speech recognition for humanitarian applications in Somali,2018,arXiv:1807.08669, https://arxiv.org/pdf/1807.08669,\n",
      "\"Raghav Menon, Herman Kamper, Emre Yilmaz, John Quinn, Thomas Niesler\",ASR-free CNN-DTW keyword spotting using multilingual bottleneck features for almost zero-resource languages,2018,arXiv:1807.08666,https://arxiv.org/pdf/1807.08666, \n",
      "\"Armin Saeb, Raghav Menon, Hugh Cameron, William Kibira, John Quinn, Thomas Niesler\",Very Low Resource Radio Browsing for Agile Developmental and Humanitarian Monitoring,2017,\"INTERSPEECH, 2118-2122\",Saeb_2017_Interspeech.pdf,\n",
      "\"Raghav Menon, Armin Saeb, Hugh Cameron, William Kibira, John Quinn, Thomas Niesler\",Radio-browsing for developmental monitoring in Uganda,2017,\"Proceedings of the IEEE International Conference on Acoustics, Speech and Signal Processing (ICASSP)\",Menon_2017_ICASSP.pdf,\n",
      "Pulse Lab Kampala,Using Machine Learning to Analyse Radio Content in Uganda,2017,United Nations Global Pulse,PLK_2017_Radio.pdf,(Project page)[https://radio.unglobalpulse.net//uganda/]\n",
      "\"John A Quinn, Rose Nakasi, Pius KB Mugagga, Patrick Byanyima, William Lubega, Alfred Andama\",Deep convolutional neural networks for microscopy-based point of care diagnostics,2016,Machine Learning for Healthcare Conference,Quinn_2016_MLHC.pdf,\"(Project page, code and data)[http://air.ug/microscopy]\"\n",
      "\"Ciira wa Maina, Mike Smith, Ernest Mwebaze, Andreas Damianou, Martin Mubangizi, John A. Quinn, Neil D. Lawrence\",Data Science Africa–An Initiative to Bridge the Data Science Skills Gap in Africa,2016,SciDataCon,Maina_2016_DataScienceAfrica.pdf,\n",
      "\"Ricardo Andrade-Pacheco, Martin Mubangizi, John Quinn, Neil Lawrence\",Monitoring Short Term Changes of Infectious Diseases in Uganda with Gaussian Processes,2015,International Workshop on Advanced Analysis and Learning on Temporal Data,Andrade-Pacheco_2015_AALTD.pdf,\n",
      "\"John A Quinn, Masashi Sugiyama\",A least-squares approach to anomaly detection in static and sequential data,2014,\"Pattern Recognition Letters 40, 36-40\",Quinn_2007_PatternRecognitionLetters.pdf,(Code)[https://github.com/lsanomaly/lsanomaly]\n",
      "\"John A Quinn, Alfred Andama, Ian Munabi, Fred N Kiwanuka\",Automated Blood Smear Analysis for Mobile Malaria Diagnosis,2014,\"Mobile Point-of-Care Monitors and Diagnostic Device Design, CRC Press\",Quinn_2014_MobilePointOfCare.pdf,\n",
      "\"Song Liu, John A Quinn, Michael U Gutmann, Taiji Suzuki, Masashi Sugiyama\",Direct learning of sparse changes in Markov networks by density ratio estimation,2014,\"Neural Computation (26) 6, 1169-1197\",Liu_2014_NeuralCopmutation.pdf,\n",
      "\"John Quinn, Vanessa Frias-Martinez, Lakshminarayan Subramanian\",Computational sustainability and artificial intelligence in the developing world,2014,\"AI Magazine (35) 3, 36-47\",Quinn_2014_AIMagazine.pdf,\n",
      "\"Godliver Owomugisha, John A Quinn, Ernest Mwebaze, James Lwasa\",Automated Vision-Based Diagnosis of Banana Bacterial Wilt Disease and Black Sigatoka Disease,2014,International Conference on the Use of Mobile Information and Communications Technology in Africa,Owomugisha_2014_UMICTA.pdf,\n",
      "\"Ricardo Andrade-Pacheco, Martin Mubangizi, John Quinn, Neil D Lawrence\",Consistent mapping of government malaria records across a changing territory delimitation,2014,Malaria Journal 2014 13 (Suppl 1):P5,Andrade-Pacheco_2014_Malaria.pdf,\n",
      "\"Joviah Tuhaise, John A Quinn, Ernest Mwebaze\",Pixel Classification Methods for Automatic Symptom Measurement of Cassava Brown Streak Disease,2014,International Conference on the Use of Mobile Information and Communications Technology in Africa,Tuhaise_2014_CassavaBrownStreak.pdf,\n",
      "\"I Ndibatya, Marthinus J Booysen, J Quinn\",An adaptive transportation prediction model for the informal public transport sector in Africa,2014,IEEE Conference on Intelligent Transportation Systems ,Ndibatya_2014_Transportation.pdf,\n",
      "\"Martin Mubangizi, Ricardo Andrade-Pacheco, Michael Smith, John A Quinn, Neil Lawrence\",Malaria surveillance with multiple data sources using Gaussian process models,2014,International Conference on the Use of Mobile Information and Communications Technology in Africa,Mubangizi_2014_MalariaSurveillance.pdf,\n",
      "\"Rose Nakibuule, John Quinn\",Performance Evaluation of a Low Cost Vision-Based Traffic Flow Monitoring System,2014,International Conference on the Use of Mobile Information and Communications Technology in Africa,Nakibuule_2014_TrafficEvaluation.pdf,\n",
      "\"Richard Ssekibuule, John A Quinn, Kevin Leyton-Brown\",A mobile market for agricultural trade in Uganda,2013,Proceedings of the 4th Annual Symposium on Computing for Development,Ssekibuule_2013_ACMDEV.pdf,\n",
      "\"Song Liu, John A Quinn, Michael U Gutmann, Masashi Sugiyama\",Direct learning of sparse changes in Markov networks by density ratio estimation,2013,European Conference on Machine Learning(ECML),Liu_2013_ECML.pdf,\n",
      "John Quinn,Computational Techniques for Crop Disease Monitoring in the Developing World,2013,Symposium on Intelligent Data Analysis (IDA),Quinn_2013_CropDiseaseMonitoring.pdf,\n",
      "\"Rose Nakibuule, Joseph Ssenyange, John A Quinn\",Low cost video-based traffic congestion monitoring using phones as sensors,2013,ACM Symposium on Computing for Development,Nakibuule_2013_TrafficMonitoring.pdf,\n",
      "\"John A Quinn, Masashi Sugiyama\",Density ratio hidden Markov models,2013,arXiv:1302.3700,https://arxiv.org/pdf/1302.3700,\n",
      "\"Martin Mubangizi, Catherine Ikae, Athina Spiliopoulou, John A Quinn\",Coupling Spatiotemporal Disease Modeling with Diagnosis,2012,AAAI,Mubangizi_2012_AAAI.pdf,\n",
      "\"Ernest Mwebaze, Petra Schneider, F-M Schleif, Jennifer R Aduwo, John A Quinn, Sven Haase, Thomas Villmann, Michael Biehl\",Divergence-based classification in learning vector quantization,2011,\"Neurocomputing (74) 9, 1429-1435\",Mwebaze_2011_Neurocomputing.pdf,\n",
      "\"John Alexander Quinn, Kevin Leyton-Brown, Ernest Mwebaze\",Modeling and Monitoring Crop Disease in Developing Countries,2011,AAAI,Quinn_2011_AAAI.pdf,\n",
      "\"J Quinn, Joris M Mooij, Tom Heskes, Michael Biehl\",Learning of causal relations,2011,ESANN,Quinn_2011_CausalRelations.pdf,\n",
      "\"John Quinn, Christopher Williams\",Physiological Monitoring with Factorial Switching Linear Dynamical Systems,2011,\"Chapter in ‘Bayesian Times Series Models’, Cambridge University Press\",Quinn_2011_PhysiologicalMonitoring.pdf,\n",
      "\"Ernest Mwebaze, John A Quinn, Michael Biehl\",Causal relevance learning for robust classification under interventions.,2011,ESANN,Mwebaze_2011_CausalRelevance.pdf,\n",
      "\"Jennifer R Aduwo, Ernest Mwebaze, John A Quinn\",Automated Vision-Based Diagnosis of Cassava Mosaic Disease,2010,\"Industrial Conference on Data Mining Workshops, 114-122\",Aduwo_2010_CassavaMosaic.pdf,\n",
      "\"John Alexander Quinn, Rose Nakibuule\",Traffic Flow Monitoring in Crowded Cities.,2010,AAAI Spring Symposium: Artificial Intelligence for Development,Quinn_2010_Traffic.pdf,\n",
      "\"John A Quinn, Washington Okori, Anthony Gidudu\",Increased-specificity famine prediction using satellite observation data,2010,ACM Symposium on Computing for Development,Quinn_2010_ACMDEV.pdf,\n",
      "\"Ernest Mwebaze, Washington Okori, John Alexander Quinn\",Causal structure learning for famine prediction,2010,AAAI Spring Symposium: Artificial Intelligence for Development,Mwebaze_2010_CausalFaminePrediction.pdf,\n",
      "\"Ernest Mwebaze, John A Quinn\",Fast committee-based structure learning,2008,Advances in Neural Information Processing Systems: Workshop on Causality,Mwebaze_2008_StructureLearning.pdf,\n",
      "\"Nathan Eagle, Aaron Clauset, John A Quinn\",\"Location Segmentation, Inference and Prediction for Anticipatory Computing\",2009,\"AAAI Spring Symposium: Technosocial Predictive Analytics, 20-25\",Eagle_2009_AAAISpringSymposium.pdf,\n",
      "\"Nathan Eagle, John A Quinn, Aaron Clauset\",Methodologies for continuous cellular tower data analysis,2009,\"International Conference on Pervasive Computing, 342-353\",Eagle_2009_Pervasive.pdf,\n",
      "\"Martin Mubangizi, Ernest Mwebaze, John A Quinn\",Computational Prediction of Cholera Outbreaks,2009,\"ICCIR, Kampala\",Mubangizi_2009_Cholera.pdf,\n",
      "\"John A Quinn, Christopher KI Williams, Neil McIntosh\",Factorial switching linear dynamical systems applied to physiological condition monitoring,2008,\"IEEE Transactions on Pattern Analysis and Machine Intelligence (31) 9, 1537-1551\",Quinn_2008_TPAMI.pdf,\n",
      "\"John A Quinn, Christopher KI Williams\",Signal masking in Gaussian channels,2008,\"International Conference on Acoustics, Speech and Signal Processing \",Quinn_2008_SignalMasking.pdf,\n",
      "\"John A Quinn, Christopher KI Williams\",Known unknowns: Novelty detection in condition monitoring,2007,\"Iberian Conference on Pattern Recognition and Image Analysis, 1-6\",Quinn_2007_KnownUnknowns.pdf,\n",
      "John Quinn,Bayesian Condition Monitoring in Neonatal Intensive Care,2007,\"PhD thesis, University of Edinburgh\",Quinn_2007_Thesis.pdf,\n",
      "\"Charles Fox, John Quinn\",How to be lost: Principled priming and pruning with particles in score following,2007,Proceedings of the 2007 International Computer Music Conference,Fox_2007_ScoreFollowing.pdf,\n",
      "\"Christopher Williams, John Quinn, Neil McIntosh\",Factorial Switching Kalman Filters for Condition Monitoring in Neonatal Intensive Care,2005,Advances in Neural Information Processing Systems 18,Williams_2005_NeurIPS.pdf,\n",
      "\"Anna S Law, Yvonne Freer, Jim Hunter, Robert H Logie, Neil Mcintosh, John Quinn\",A comparison of graphical and textual presentations of time series data to support medical decision making in the neonatal intensive care unit,2005,\"Journal of Clinical Monitoring and Computing (19) 3, 183-194\",Law_2005_ClinicalMonitoringComputing.pdf,\n"
     ]
    }
   ],
   "source": [
    "!cat publications.csv"
   ]
  },
  {
   "cell_type": "markdown",
   "metadata": {},
   "source": [
    "## Import pandas\n",
    "\n",
    "We are using the very handy pandas library for dataframes."
   ]
  },
  {
   "cell_type": "code",
   "execution_count": 42,
   "metadata": {
    "deletable": true,
    "editable": true
   },
   "outputs": [],
   "source": [
    "import pandas as pd"
   ]
  },
  {
   "cell_type": "markdown",
   "metadata": {},
   "source": [
    "## Import publications table\n",
    "\n",
    "Pandas makes this easy with the read_csv function. We are using a TSV, so we specify the separator as a tab, or `\\t`.\n",
    "\n",
    "I found it important to put this data in a tab-separated values format, because there are a lot of commas in this kind of data and comma-separated values can get messed up. However, you can modify the import statement, as pandas also has read_excel(), read_json(), and others."
   ]
  },
  {
   "cell_type": "code",
   "execution_count": 153,
   "metadata": {
    "deletable": true,
    "editable": true
   },
   "outputs": [
    {
     "data": {
      "text/html": [
       "<div>\n",
       "<style scoped>\n",
       "    .dataframe tbody tr th:only-of-type {\n",
       "        vertical-align: middle;\n",
       "    }\n",
       "\n",
       "    .dataframe tbody tr th {\n",
       "        vertical-align: top;\n",
       "    }\n",
       "\n",
       "    .dataframe thead th {\n",
       "        text-align: right;\n",
       "    }\n",
       "</style>\n",
       "<table border=\"1\" class=\"dataframe\">\n",
       "  <thead>\n",
       "    <tr style=\"text-align: right;\">\n",
       "      <th></th>\n",
       "      <th>citation</th>\n",
       "      <th>title</th>\n",
       "      <th>url_slug</th>\n",
       "      <th>pub_date</th>\n",
       "      <th>venue</th>\n",
       "      <th>paper_url</th>\n",
       "      <th>excerpt</th>\n",
       "    </tr>\n",
       "  </thead>\n",
       "  <tbody>\n",
       "    <tr>\n",
       "      <th>0</th>\n",
       "      <td>Tomaz Logar, Joseph Bullock, Edoardo Nemni, La...</td>\n",
       "      <td>PulseSatellite: A Tool Using Human-AI Feedback...</td>\n",
       "      <td>NaN</td>\n",
       "      <td>2020</td>\n",
       "      <td>AAAI (Demo Track)</td>\n",
       "      <td>https://arxiv.org/pdf/2001.10685.pdf</td>\n",
       "      <td>[PulseSatellite project page](https://www.ungl...</td>\n",
       "    </tr>\n",
       "    <tr>\n",
       "      <th>1</th>\n",
       "      <td>Godliver Owomugisha, Ephraim Nuwamanya, John A...</td>\n",
       "      <td>Early detection of plant diseases using spectr...</td>\n",
       "      <td>NaN</td>\n",
       "      <td>2020</td>\n",
       "      <td>International Conference on Applications of In...</td>\n",
       "      <td>/files/Owomugisha_2020_Spectral.pdf</td>\n",
       "      <td>NaN</td>\n",
       "    </tr>\n",
       "    <tr>\n",
       "      <th>2</th>\n",
       "      <td>Godliver Owomugisha, Pius KB Mugagga, Friedric...</td>\n",
       "      <td>A low-cost 3-D printed smartphone add-on spect...</td>\n",
       "      <td>NaN</td>\n",
       "      <td>2020</td>\n",
       "      <td>Conference on Computing and Sustainable Societ...</td>\n",
       "      <td>/files/Owomugisha_2020_COMPASS.pdf</td>\n",
       "      <td>NaN</td>\n",
       "    </tr>\n",
       "    <tr>\n",
       "      <th>3</th>\n",
       "      <td>Jeremy Francis Tusubira, Solomon Nsumba, Flavi...</td>\n",
       "      <td>Improving In-Field Cassava Whitefly Pest Surve...</td>\n",
       "      <td>NaN</td>\n",
       "      <td>2020</td>\n",
       "      <td>CVPR 2020 Workshops</td>\n",
       "      <td>/files/Tusubira_2020_WhiteflyDetection.pdf</td>\n",
       "      <td>NaN</td>\n",
       "    </tr>\n",
       "    <tr>\n",
       "      <th>4</th>\n",
       "      <td>Pedro J Zufiria, David Pastor-Escuredo, Luis U...</td>\n",
       "      <td>Mobility profiles and calendars for food secur...</td>\n",
       "      <td>NaN</td>\n",
       "      <td>2019</td>\n",
       "      <td>arXiv:1904.08525</td>\n",
       "      <td>https://arxiv.org/pdf/1904.08525</td>\n",
       "      <td>NaN</td>\n",
       "    </tr>\n",
       "  </tbody>\n",
       "</table>\n",
       "</div>"
      ],
      "text/plain": [
       "                                            citation  \\\n",
       "0  Tomaz Logar, Joseph Bullock, Edoardo Nemni, La...   \n",
       "1  Godliver Owomugisha, Ephraim Nuwamanya, John A...   \n",
       "2  Godliver Owomugisha, Pius KB Mugagga, Friedric...   \n",
       "3  Jeremy Francis Tusubira, Solomon Nsumba, Flavi...   \n",
       "4  Pedro J Zufiria, David Pastor-Escuredo, Luis U...   \n",
       "\n",
       "                                               title  url_slug  pub_date  \\\n",
       "0  PulseSatellite: A Tool Using Human-AI Feedback...       NaN      2020   \n",
       "1  Early detection of plant diseases using spectr...       NaN      2020   \n",
       "2  A low-cost 3-D printed smartphone add-on spect...       NaN      2020   \n",
       "3  Improving In-Field Cassava Whitefly Pest Surve...       NaN      2020   \n",
       "4  Mobility profiles and calendars for food secur...       NaN      2019   \n",
       "\n",
       "                                               venue  \\\n",
       "0                                  AAAI (Demo Track)   \n",
       "1  International Conference on Applications of In...   \n",
       "2  Conference on Computing and Sustainable Societ...   \n",
       "3                                CVPR 2020 Workshops   \n",
       "4                                   arXiv:1904.08525   \n",
       "\n",
       "                                    paper_url  \\\n",
       "0        https://arxiv.org/pdf/2001.10685.pdf   \n",
       "1         /files/Owomugisha_2020_Spectral.pdf   \n",
       "2          /files/Owomugisha_2020_COMPASS.pdf   \n",
       "3  /files/Tusubira_2020_WhiteflyDetection.pdf   \n",
       "4            https://arxiv.org/pdf/1904.08525   \n",
       "\n",
       "                                             excerpt  \n",
       "0  [PulseSatellite project page](https://www.ungl...  \n",
       "1                                                NaN  \n",
       "2                                                NaN  \n",
       "3                                                NaN  \n",
       "4                                                NaN  "
      ]
     },
     "execution_count": 153,
     "metadata": {},
     "output_type": "execute_result"
    }
   ],
   "source": [
    "publications = pd.read_csv(\"publications.csv\", sep=\",\", header=0)\n",
    "publications.head()"
   ]
  },
  {
   "cell_type": "markdown",
   "metadata": {},
   "source": [
    "## Create URL slug from title and year"
   ]
  },
  {
   "cell_type": "code",
   "execution_count": 154,
   "metadata": {},
   "outputs": [],
   "source": [
    "import re\n",
    "\n",
    "url_slugs = []\n",
    "for i in publications.index:\n",
    "    title_words = publications.title[i].lower().split()\n",
    "    title_words = [re.sub('[\\W_]+', '', w) for w in title_words]\n",
    "    if len(title_words) > 5:\n",
    "        title_words = title_words[:5]\n",
    "    slug = '-'.join(title_words)\n",
    "    url_slugs.append(slug)\n",
    "\n",
    "publications['url_slug'] = url_slugs"
   ]
  },
  {
   "cell_type": "markdown",
   "metadata": {},
   "source": [
    "## Escape special characters\n",
    "\n",
    "YAML is very picky about how it takes a valid string, so we are replacing single and double quotes (and ampersands) with their HTML encoded equivilents. This makes them look not so readable in raw format, but they are parsed and rendered nicely."
   ]
  },
  {
   "cell_type": "code",
   "execution_count": 155,
   "metadata": {
    "deletable": true,
    "editable": true
   },
   "outputs": [],
   "source": [
    "html_escape_table = {\n",
    "    \"&\": \"&amp;\",\n",
    "    '\"': \"&quot;\",\n",
    "    \"'\": \"&apos;\"\n",
    "    }\n",
    "\n",
    "def html_escape(text):\n",
    "    \"\"\"Produce entities within text.\"\"\"\n",
    "    return \"\".join(html_escape_table.get(c,c) for c in text)"
   ]
  },
  {
   "cell_type": "markdown",
   "metadata": {},
   "source": [
    "## Creating the markdown files\n",
    "\n",
    "This is where the heavy lifting is done. This loops through all the rows in the TSV dataframe, then starts to concatentate a big string (```md```) that contains the markdown for each type. It does the YAML metadata first, then does the description for the individual page."
   ]
  },
  {
   "cell_type": "code",
   "execution_count": 156,
   "metadata": {},
   "outputs": [],
   "source": [
    "!rm ../_publications/*.md"
   ]
  },
  {
   "cell_type": "code",
   "execution_count": 157,
   "metadata": {
    "collapsed": false,
    "deletable": true,
    "editable": true,
    "jupyter": {
     "outputs_hidden": false
    }
   },
   "outputs": [],
   "source": [
    "import os\n",
    "for row, item in publications.iterrows():\n",
    "    \n",
    "    md_filename = str(item.pub_date) + \"-\" + item.url_slug + \".md\"\n",
    "    html_filename = str(item.pub_date) + \"-\" + item.url_slug\n",
    "    year = item.pub_date\n",
    "    \n",
    "    ## YAML variables\n",
    "    \n",
    "    md = \"---\\ntitle: \\\"\"   + item.title + '\"\\n'\n",
    "    \n",
    "    md += \"\"\"collection: publications\"\"\"\n",
    "    \n",
    "    md += \"\"\"\\npermalink: /publication/\"\"\" + html_filename\n",
    "    \n",
    "    if len(str(item.excerpt)) > 5:\n",
    "        md += \"\\nexcerpt: '\" + html_escape(item.excerpt) + \"'\"\n",
    "    \n",
    "    md += \"\\ndate: \" + str(item.pub_date) + '-01-01'\n",
    "    \n",
    "    md += \"\\nvenue: '\" + html_escape(item.venue) + \"'\"\n",
    "    \n",
    "    if len(str(item.paper_url)) > 5:\n",
    "        md += \"\\npaperurl: '\" + item.paper_url + \"'\"\n",
    "    \n",
    "    md += \"\\ncitation: '\" + html_escape(item.citation) + \"'\"\n",
    "    \n",
    "    md += \"\\n---\"\n",
    "    \n",
    "    ## Markdown description for individual page\n",
    "        \n",
    "    if len(str(item.excerpt)) > 5:\n",
    "        md += \"\\n\" + html_escape(item.excerpt)\n",
    "    \n",
    "    md_filename = os.path.basename(md_filename)\n",
    "       \n",
    "    with open(\"../_publications/\" + md_filename, 'w') as f:\n",
    "        f.write(md)"
   ]
  },
  {
   "cell_type": "markdown",
   "metadata": {},
   "source": [
    "These files are in the publications directory, one directory below where we're working from."
   ]
  },
  {
   "cell_type": "code",
   "execution_count": 79,
   "metadata": {
    "collapsed": true,
    "deletable": true,
    "editable": true,
    "jupyter": {
     "outputs_hidden": true
    }
   },
   "outputs": [
    {
     "name": "stdout",
     "output_type": "stream",
     "text": [
      "2005-a-comparison-of-graphical-and.md\n",
      "2005-factorial-switching-kalman-filters-for.md\n",
      "2007-bayesian-condition-monitoring-in-neonatal.md\n",
      "2007-how-to-be-lost-principled.md\n",
      "2007-known-unknowns-novelty-detection-in.md\n",
      "2008-factorial-switching-linear-dynamical-systems.md\n",
      "2008-fast-committeebased-structure-learning.md\n",
      "2008-signal-masking-in-gaussian-channels.md\n",
      "2009-computational-prediction-of-cholera-outbreaks.md\n",
      "2009-location-segmentation-inference-and-prediction.md\n",
      "2009-methodologies-for-continuous-cellular-tower.md\n",
      "2010-automated-visionbased-diagnosis-of-cassava.md\n",
      "2010-causal-structure-learning-for-famine.md\n",
      "2010-increasedspecificity-famine-prediction-using-satellite.md\n",
      "2010-traffic-flow-monitoring-in-crowded.md\n",
      "2011-causal-relevance-learning-for-robust.md\n",
      "2011-divergencebased-classification-in-learning-vector.md\n",
      "2011-learning-of-causal-relations.md\n",
      "2011-modeling-and-monitoring-crop-disease.md\n",
      "2011-physiological-monitoring-with-factorial-switching.md\n",
      "2012-coupling-spatiotemporal-disease-modeling-with.md\n",
      "2013-a-mobile-market-for-agricultural.md\n",
      "2013-computational-techniques-for-crop-disease.md\n",
      "2013-density-ratio-hidden-markov-models.md\n",
      "2013-direct-learning-of-sparse-changes.md\n",
      "2013-low-cost-videobased-traffic-congestion.md\n",
      "2014-a-leastsquares-approach-to-anomaly.md\n",
      "2014-an-adaptive-transportation-prediction-model.md\n",
      "2014-automated-blood-smear-analysis-for.md\n",
      "2014-automated-visionbased-diagnosis-of-banana.md\n",
      "2014-computational-sustainability-and-artificial-intelligence.md\n",
      "2014-consistent-mapping-of-government-malaria.md\n",
      "2014-direct-learning-of-sparse-changes.md\n",
      "2014-malaria-surveillance-with-multiple-data.md\n",
      "2014-performance-evaluation-of-a-low.md\n",
      "2014-pixel-classification-methods-for-automatic.md\n",
      "2015-monitoring-short-term-changes-of.md\n",
      "2016-data-science-africaan-initiative-to.md\n",
      "2016-deep-convolutional-neural-networks-for.md\n",
      "2017-radiobrowsing-for-developmental-monitoring-in.md\n",
      "2017-using-machine-learning-to-analyse.md\n",
      "2017-very-low-resource-radio-browsing.md\n",
      "2018-asrfree-cnndtw-keyword-spotting-using.md\n",
      "2018-automatic-speech-recognition-for-humanitarian.md\n",
      "2018-designing-and-evolving-an-electronic.md\n",
      "2018-fast-asrfree-and-almost-zeroresource.md\n",
      "2018-feature-exploration-for-almost-zeroresource.md\n",
      "2018-humanitarian-applications-of-machine-learning.md\n",
      "2018-identifying-seasonal-mobility-profiles-from.md\n",
      "2018-machine-learning-for-diagnosis-of.md\n",
      "2019-mobility-profiles-and-calendars-for.md\n",
      "2020-a-lowcost-3d-printed-smartphone.md\n",
      "2020-early-detection-of-plant-diseases.md\n",
      "2020-improving-infield-cassava-whitefly-pest.md\n",
      "2020-pulsesatellite-a-tool-using-humanai.md\n"
     ]
    }
   ],
   "source": [
    "!ls ../_publications/"
   ]
  },
  {
   "cell_type": "code",
   "execution_count": 108,
   "metadata": {
    "collapsed": false,
    "deletable": true,
    "editable": true,
    "jupyter": {
     "outputs_hidden": false
    }
   },
   "outputs": [
    {
     "name": "stdout",
     "output_type": "stream",
     "text": [
      "---\n",
      "title: \"PulseSatellite: A Tool Using Human-AI Feedback Loops for Satellite Image Analysis in Humanitarian Contexts\"\n",
      "collection: publications\n",
      "permalink: /publication/2020-pulsesatellite-a-tool-using-humanai\n",
      "excerpt: '[PulseSatellite project page](https://www.unglobalpulse.org/microsite/pulsesatellite/)'\n",
      "date: 2020-01-01\n",
      "venue: 'AAAI'\n",
      "paperurl: 'https://arxiv.org/pdf/2001.10685.pdf'\n",
      "citation: 'Tomaz Logar, Joseph Bullock, Edoardo Nemni, Lars Bromley, John A Quinn, Miguel A Luengo-Oroz'\n",
      "---\n",
      "[PulseSatellite project page](https://www.unglobalpulse.org/microsite/pulsesatellite/)\n",
      "[pdf](https://arxiv.org/pdf/2001.10685.pdf)\n"
     ]
    }
   ],
   "source": [
    "!cat ../_publications/2020-pulsesatellite-a-tool-using-humanai.md"
   ]
  },
  {
   "cell_type": "markdown",
   "metadata": {},
   "source": [
    "## Retrieve publications from Google Scholar\n",
    "\n",
    "Can be helpful for retrieving the details to compile ```publications.tsv```."
   ]
  },
  {
   "cell_type": "code",
   "execution_count": 1,
   "metadata": {},
   "outputs": [],
   "source": [
    "SCHOLAR_ID = 'd4_ktUIAAAAJ'\n",
    "\n",
    "from scholarly import scholarly\n",
    "author = scholarly.search_author_id(SCHOLAR_ID)\n",
    "author['filled'] = set()\n",
    "author = scholarly.fill(author)\n",
    "unfilled_pubs = author['publications']\n",
    "pubs = [scholarly.fill(p) for p in unfilled_pubs]"
   ]
  },
  {
   "cell_type": "code",
   "execution_count": 5,
   "metadata": {
    "collapsed": true,
    "jupyter": {
     "outputs_hidden": true
    }
   },
   "outputs": [
    {
     "name": "stdout",
     "output_type": "stream",
     "text": [
      "John A Quinn, Christopher KI Williams, Neil McIntosh\n",
      "Anna S Law, Yvonne Freer, Jim Hunter, Robert H Logie, Neil Mcintosh, John Quinn\n",
      "John A Quinn, Rose Nakasi, Pius KB Mugagga, Patrick Byanyima, William Lubega, Alfred Andama\n",
      "Ernest Mwebaze, Petra Schneider, F-M Schleif, Jennifer R Aduwo, John A Quinn, Sven Haase, Thomas Villmann, Michael Biehl\n",
      "Christopher Williams, John Quinn, Neil McIntosh\n",
      "John A Quinn, Christopher KI Williams\n",
      "John A Quinn, Masashi Sugiyama\n",
      "Nathan Eagle, Aaron Clauset, John A Quinn\n",
      "John A Quinn, Marguerite M Nyhan, Celia Navarro, Davide Coluccia, Lars Bromley, Miguel Luengo-Oroz\n",
      "Nathan Eagle, John A Quinn, Aaron Clauset\n",
      "John A Quinn, Alfred Andama, Ian Munabi, Fred N Kiwanuka\n",
      "Song Liu, John A Quinn, Michael U Gutmann, Taiji Suzuki, Masashi Sugiyama\n",
      "John Alexander Quinn, Kevin Leyton-Brown, Ernest Mwebaze\n",
      "Jennifer R Aduwo, Ernest Mwebaze, John A Quinn\n",
      "John Alexander Quinn, Rose Nakibuule\n",
      "John Quinn, Vanessa Frias-Martinez, Lakshminarayan Subramanian\n",
      "Godliver Owomugisha, John A Quinn, Ernest Mwebaze, James Lwasa\n",
      "John Quinn\n",
      "Armin Saeb, Raghav Menon, Hugh Cameron, William Kibira, John Quinn, Thomas Niesler\n",
      "Richard Ssekibuule, John A Quinn, Kevin Leyton-Brown\n",
      "Song Liu, John A Quinn, Michael U Gutmann, Masashi Sugiyama\n",
      "Raghav Menon, Herman Kamper, John Quinn, Thomas Niesler\n",
      "Raghav Menon, Armin Saeb, Hugh Cameron, William Kibira, John Quinn, Thomas Niesler\n",
      "John A Quinn, Washington Okori, Anthony Gidudu\n",
      "Pedro J Zufiria, David Pastor-Escuredo, Luis Úbeda-Medina, Miguel A Hernandez-Medina, Iker Barriales-Valbuena, Alfredo J Morales, Damien C Jacques, Wilfred Nkwambi, M Bamba Diop, John Quinn, Paula Hidalgo-Sanchís, Miguel Luengo-Oroz\n",
      "Raghav Menon, Herman Kamper, Ewald van der Westhuizen, John Quinn, Thomas Niesler\n",
      "J Quinn, Joris M Mooij, Tom Heskes, Michael Biehl\n",
      "Ernest Mwebaze, Washington Okori, John Alexander Quinn\n",
      "Martin Mubangizi, Catherine Ikae, Athina Spiliopoulou, John A Quinn\n",
      "Joan Martí, José M Benedí, Ana M Mendonça, Joan Serrat\n",
      "Charles Fox, John Quinn\n",
      "Godliver Owomugisha, Friedrich Melchert, Ernest Mwebaze, John A Quinn, Michael Biehl\n",
      "John Quinn\n",
      "Neil Newman, Lauren Falcao Bergquist, Nicole Immorlica, Kevin Leyton-Brown, Brendan Lucier, Craig McIntosh, John Quinn, Richard Ssekibuule\n",
      "Ricardo Andrade-Pacheco, Martin Mubangizi, John Quinn, Neil Lawrence\n",
      "Ricardo Andrade-Pacheco, Martin Mubangizi, John Quinn, Neil D Lawrence\n",
      "Tomaz Logar, Joseph Bullock, Edoardo Nemni, Lars Bromley, John A Quinn, Miguel A Luengo-Oroz\n",
      "Ernest Mwebaze, John A Quinn\n",
      "Raghav Menon, Astik Biswas, Armin Saeb, John Quinn, Thomas Niesler\n",
      "Raghav Menon, Herman Kamper, Emre Yilmaz, John Quinn, Thomas Niesler\n",
      "Ian G Munabi, William Buwembo, Francis Bajunirwe, David Lagoro Kitara, Ruberwa Joseph, Kawungezi Peter, Celestino Obua, John Quinn, Erisa S Mwaka\n",
      "Joviah Tuhaise, John A Quinn, Ernest Mwebaze\n",
      "Rose Nakibuule, Joseph Ssenyange, John A Quinn\n",
      "John Quinn, Christopher Williams\n",
      "Pedro J Zufiria, David Pastor-Escuredo, Luis Ubeda Medina, Miguel A Hernandez Medina, Iker Barriales Valbuena, Alfredo J Morales, Wilfred Nkwambi, John Quinn, Paula Hidalgo Sanchis, Miguel Luengo-Oroz\n",
      "Wa Maina Ciira\n",
      "Ricardo Andrade-Pacheco, Martin Mubangizi, John Quinn, Neil Lawrence\n",
      "I Ndibatya, Marthinus J Booysen, J Quinn\n",
      "John A Quinn, Masashi Sugiyama\n",
      "MARTIN Mubangizi, ERNEST Mwebaze, JOHN A Quinn\n",
      "Godliver Owomugisha, Ephraim Nuwamanya, John A Quinn, Michael Biehl, Ernest Mwebaze\n",
      "Martin Mubangizi, Ricardo Andrade-Pacheco, Michael Smith, John A Quinn, Neil Lawrence\n",
      "Ernest Mwebaze, John A Quinn, Michael Biehl\n",
      "Ernest Mwebaze, John A Quinn\n",
      "Godliver Owomugisha, Pius KB Mugagga, Friedrich Melchert, Ernest Mwebaze, John A Quinn, Michael Biehl\n",
      "Jeremy Francis Tusubira, Solomon Nsumba, Flavia Ninsiima, Benjamin Akera, Guy Acellam, Joyce Nakatumba, Ernest Mwebaze, John Quinn, Tonny Oyana\n",
      "Rose Nakibuule, John Quinn\n",
      "Song LIU, John A QUINN, Michael U GUTMANN, Masashi SUGIYAMA\n",
      "John A Lee, Petra Schneider, John Quinn\n",
      "John A Quinn, Christopher KI Williams\n",
      "B Wefers, N McIntosh, J Quinn\n",
      "J Quinn, P Badger, A Lyon, N McIntosh\n",
      "Song Liu, John A Quinn, Michael U Gutmann, Masashi Sugiyama\n",
      "J Quinn, CKI Williams, N McIntosh, B Wefers\n"
     ]
    }
   ],
   "source": [
    "for p in pubs:\n",
    "    author_list = p['bib']['author']\n",
    "    author_list = author_list.replace(' and ',', ')\n",
    "    print(author_list)"
   ]
  },
  {
   "cell_type": "code",
   "execution_count": null,
   "metadata": {},
   "outputs": [],
   "source": [
    "for p in pubs:\n",
    "    b = p['bib']\n",
    "    venue =  '-'\n",
    "    if 'journal' in b:\n",
    "        venue = f\"{b.get('journal')} ({b.get('volume')}) {b.get('number')}, {b.get('pages')}\"\n",
    "    print(venue)"
   ]
  },
  {
   "cell_type": "code",
   "execution_count": null,
   "metadata": {
    "collapsed": true,
    "deletable": true,
    "editable": true,
    "jupyter": {
     "outputs_hidden": true
    }
   },
   "outputs": [],
   "source": [
    "for p in pubs:\n",
    "    print(p['bib']['title'])\n",
    "    \n",
    "for p in pubs:\n",
    "    print(p['bib']['pub_year'])"
   ]
  },
  {
   "cell_type": "code",
   "execution_count": 12,
   "metadata": {
    "collapsed": true,
    "jupyter": {
     "outputs_hidden": true
    }
   },
   "outputs": [
    {
     "data": {
      "text/plain": [
       "['http://citeseerx.ist.psu.edu/viewdoc/download?doi=10.1.1.832.5824&rep=rep1&type=pdf',\n",
       " 'http://citeseerx.ist.psu.edu/viewdoc/download?doi=10.1.1.118.5805&rep=rep1&type=pdf',\n",
       " 'http://www.jmlr.org/proceedings/papers/v56/Quinn16.pdf',\n",
       " 'https://www.rug.nl/research/portal/files/2489124/2011NeurocompMwebaze.pdf',\n",
       " 'https://papers.nips.cc/paper/2005/file/aeefb050911334869a7a5d9e4d0e1689-Paper.pdf',\n",
       " 'http://www.research.ed.ac.uk/portal/files/21892425/knownunknowns.pdf',\n",
       " 'http://cit.mak.ac.ug/staff/jquinn/papers/PRLetters_LSAnomalyDetection.pdf',\n",
       " 'https://www.aaai.org/Papers/Symposia/Spring/2009/SS-09-09/SS09-09-005.pdf',\n",
       " 'https://royalsocietypublishing.org/doi/pdf/10.1098/rsta.2017.0363',\n",
       " 'http://realitycommons.media.mit.edu/pdfs/pervasive09.pdf',\n",
       " 'http://air.ug/~jquinn/papers/AutomatedMalariaDiagnosisChapter.pdf',\n",
       " 'http://www.ms.k.u-tokyo.ac.jp/2014/CDKLIEP2.pdf',\n",
       " 'https://cit.mak.ac.ug/staff/jquinn/papers/aaai11cropmonitoring.pdf',\n",
       " 'http://air.ug/mcrops/papers/dma2010.pdf',\n",
       " 'https://www.ai-d.org/pdfs/Quinn.pdf',\n",
       " 'https://www.aaai.org/ojs/index.php/aimagazine/article/download/2529/2437',\n",
       " 'https://www.researchgate.net/profile/James_Lwasa/publication/333683045_Automated_Vision-Based_Diagnosis_of_Banana_Bacterial_Wilt_Disease_and_Black_Sigatoka_Disease/links/5cff910aa6fdccd13091f6cc/Automated-Vision-Based-Diagnosis-of-Banana-Bacterial-Wilt-Disease-and-Black-Sigatoka-Disease.pdf',\n",
       " 'https://era.ed.ac.uk/bitstream/handle/1842/2144/Quinn2007.pdf?sequence=1&isAllowed=y',\n",
       " 'http://air.ug/~jquinn/papers/interspeech17-radio.pdf',\n",
       " 'https://www.researchgate.net/profile/Richard_Ssekibuule/publication/262212005_A_mobile_market_for_agricultural_trade_in_Uganda/links/5440bb6a0cf2fd72f99de1c8/A-mobile-market-for-agricultural-trade-in-Uganda.pdf',\n",
       " 'https://link.springer.com/content/pdf/10.1007/978-3-642-40991-2_38.pdf',\n",
       " 'https://arxiv.org/pdf/1806.09374',\n",
       " 'http://dsp.sun.ac.za/~trn/reports/menon+saeb+cameron+kibira+quinn+niesler_icassp17.pdf',\n",
       " 'https://www.academia.edu/download/50924419/Increased-specificity_famine_prediction_20161216-32402-1h0xgmc.pdf',\n",
       " 'https://journals.plos.org/plosone/article?id=10.1371/journal.pone.0195714',\n",
       " 'https://arxiv.org/pdf/1811.08284',\n",
       " 'https://repository.ubn.ru.nl/bitstream/handle/2066/91996/91996.pdf',\n",
       " 'http://www.ai-d.org/pdfs/Mwebaze.pdf',\n",
       " 'https://citeseerx.ist.psu.edu/viewdoc/download?doi=10.1.1.700.6368&rep=rep1&type=pdf',\n",
       " None,\n",
       " 'http://air.ug/~jquinn/papers/how-to-be-lost.pdf',\n",
       " 'https://csce.ucmss.com/cr/books/2018/LFS/CSREA2018/ICA3558.pdf',\n",
       " 'http://air.ug/mcrops/papers/ida2013.pdf',\n",
       " 'http://air.ug/~jquinn/papers/COMPASS2018_kudu.pdf',\n",
       " None,\n",
       " 'https://malariajournal.biomedcentral.com/track/pdf/10.1186/1475-2875-13-S1-P5?site=http://malariajournal.biomedcentral.com',\n",
       " 'https://arxiv.org/pdf/2001.10685',\n",
       " 'http://www.jmlr.org/proceedings/papers/v6/mwebaze10a/mwebaze10a.pdf',\n",
       " 'https://arxiv.org/pdf/1807.08669',\n",
       " 'https://arxiv.org/pdf/1807.08666',\n",
       " 'https://link.springer.com/article/10.1186/s13104-015-1013-3',\n",
       " 'http://citeseerx.ist.psu.edu/viewdoc/download?doi=10.1.1.708.3936&rep=rep1&type=pdf',\n",
       " 'http://dev3.acmdev.org/posters/dev-final49.pdf',\n",
       " 'https://homepages.inf.ed.ac.uk/ckiw/postscript/PMTSAchapter.pdf',\n",
       " 'https://arxiv.org/pdf/1904.08525',\n",
       " 'http://repository.dkut.ac.ke:8080/xmlui/bitstream/handle/123456789/608/DSA-Abstract_v2.pdf?sequence=1',\n",
       " 'http://air.ug/~jquinn/papers/aaltd2015malaria.pdf',\n",
       " 'http://scholar.sun.ac.za/bitstream/handle/10019.1/96184/ndibatya_adaptive_2014.pdf?sequence=1&isAllowed=y',\n",
       " 'https://arxiv.org/pdf/1302.3700',\n",
       " 'http://www.academia.edu/download/31045188/Mubangizi-ICCIR2009.pdf',\n",
       " 'https://www.rug.nl/research/portal/files/121189423/72787761_5469932_APPIS2020_Preprint.pdf',\n",
       " 'http://citeseerx.ist.psu.edu/viewdoc/download?doi=10.1.1.707.2864&rep=rep1&type=pdf',\n",
       " 'https://www.researchgate.net/profile/Michael_Biehl/publication/221166180_Causal_Relevance_Learning_for_Robust_Classification_under_Interventions/links/0912f50a360277e6d2000000.pdf',\n",
       " 'http://www.ijcir.mak.ac.ug/specialissue2010/article4.pdf',\n",
       " None,\n",
       " 'http://openaccess.thecvf.com/content_CVPRW_2020/papers/w5/Tusubira_Improving_In-Field_Cassava_Whitefly_Pest_Surveillance_With_Machine_Learning_CVPRW_2020_paper.pdf',\n",
       " None,\n",
       " None,\n",
       " None,\n",
       " 'http://www.research.ed.ac.uk/portal/files/7913137/icassp08_v6_1_.pdf',\n",
       " None,\n",
       " 'http://www.cit.mak.ac.ug/staff/jquinn/espr03.pdf',\n",
       " None,\n",
       " 'http://cit.mak.ac.ug/staff/jquinn/espr06.pdf']"
      ]
     },
     "execution_count": 12,
     "metadata": {},
     "output_type": "execute_result"
    }
   ],
   "source": [
    "urls = []\n",
    "for p in pubs:\n",
    "    urls.append(p.get('eprint_url'))\n",
    "print(urls)"
   ]
  }
 ],
 "metadata": {
  "kernelspec": {
   "display_name": "Python 3",
   "language": "python",
   "name": "python3"
  },
  "language_info": {
   "codemirror_mode": {
    "name": "ipython",
    "version": 3
   },
   "file_extension": ".py",
   "mimetype": "text/x-python",
   "name": "python",
   "nbconvert_exporter": "python",
   "pygments_lexer": "ipython3",
   "version": "3.6.10"
  }
 },
 "nbformat": 4,
 "nbformat_minor": 4
}
